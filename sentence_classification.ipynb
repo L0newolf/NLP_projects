{
  "nbformat": 4,
  "nbformat_minor": 0,
  "metadata": {
    "colab": {
      "provenance": [],
      "authorship_tag": "ABX9TyMOqA1KDzFH8pm2XOnAGf5v",
      "include_colab_link": true
    },
    "kernelspec": {
      "name": "python3",
      "display_name": "Python 3"
    },
    "language_info": {
      "name": "python"
    }
  },
  "cells": [
    {
      "cell_type": "markdown",
      "metadata": {
        "id": "view-in-github",
        "colab_type": "text"
      },
      "source": [
        "<a href=\"https://colab.research.google.com/github/L0newolf/NLP_projects/blob/main/sentence_classification.ipynb\" target=\"_parent\"><img src=\"https://colab.research.google.com/assets/colab-badge.svg\" alt=\"Open In Colab\"/></a>"
      ]
    },
    {
      "cell_type": "code",
      "execution_count": null,
      "metadata": {
        "id": "t4XfPIWsLKzO"
      },
      "outputs": [],
      "source": []
    },
    {
      "cell_type": "markdown",
      "source": [
        "## Code to extract features and train models to classify text sentences into categories, Used NLTK and DNN models"
      ],
      "metadata": {
        "id": "MfFgZuu6Ll1s"
      }
    },
    {
      "cell_type": "code",
      "source": [],
      "metadata": {
        "id": "cHUAzNgcL6Ci"
      },
      "execution_count": null,
      "outputs": []
    }
  ]
}