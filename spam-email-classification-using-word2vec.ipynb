{
 "cells": [
  {
   "cell_type": "markdown",
   "id": "45a811ce",
   "metadata": {
    "papermill": {
     "duration": 0.028919,
     "end_time": "2021-11-05T04:49:02.486544",
     "exception": false,
     "start_time": "2021-11-05T04:49:02.457625",
     "status": "completed"
    },
    "tags": []
   },
   "source": [
    "# Spam Email Detection Using Average Word2Vec "
   ]
  },
  {
   "cell_type": "code",
   "execution_count": 1,
   "id": "a24649fa",
   "metadata": {
    "_cell_guid": "b1076dfc-b9ad-4769-8c92-a6c4dae69d19",
    "_uuid": "8f2839f25d086af736a60e9eeb907d3b93b6e0e5",
    "execution": {
     "iopub.execute_input": "2021-11-05T04:49:02.604453Z",
     "iopub.status.busy": "2021-11-05T04:49:02.602710Z",
     "iopub.status.idle": "2021-11-05T04:49:02.631859Z",
     "shell.execute_reply": "2021-11-05T04:49:02.630681Z",
     "shell.execute_reply.started": "2021-11-05T04:43:16.245096Z"
    },
    "papermill": {
     "duration": 0.060779,
     "end_time": "2021-11-05T04:49:02.632140",
     "exception": false,
     "start_time": "2021-11-05T04:49:02.571361",
     "status": "completed"
    },
    "tags": []
   },
   "outputs": [],
   "source": [
    "import numpy as np\n",
    "import pandas as pd\n",
    "import os\n"
   ]
  },
  {
   "cell_type": "markdown",
   "id": "9915790a",
   "metadata": {
    "papermill": {
     "duration": 0.028145,
     "end_time": "2021-11-05T04:49:02.820615",
     "exception": false,
     "start_time": "2021-11-05T04:49:02.792470",
     "status": "completed"
    },
    "tags": []
   },
   "source": [
    "### Load the Data"
   ]
  },
  {
   "cell_type": "code",
   "execution_count": 3,
   "id": "6bd5e11b",
   "metadata": {
    "execution": {
     "iopub.execute_input": "2021-11-05T04:49:02.882843Z",
     "iopub.status.busy": "2021-11-05T04:49:02.882209Z",
     "iopub.status.idle": "2021-11-05T04:49:03.059109Z",
     "shell.execute_reply": "2021-11-05T04:49:03.059581Z",
     "shell.execute_reply.started": "2021-11-05T04:43:16.289434Z"
    },
    "papermill": {
     "duration": 0.209588,
     "end_time": "2021-11-05T04:49:03.059755",
     "exception": false,
     "start_time": "2021-11-05T04:49:02.850167",
     "status": "completed"
    },
    "tags": []
   },
   "outputs": [
    {
     "name": "stdout",
     "output_type": "stream",
     "text": [
      "(18650, 3)\n"
     ]
    },
    {
     "data": {
      "text/html": [
       "<div>\n",
       "<style scoped>\n",
       "    .dataframe tbody tr th:only-of-type {\n",
       "        vertical-align: middle;\n",
       "    }\n",
       "\n",
       "    .dataframe tbody tr th {\n",
       "        vertical-align: top;\n",
       "    }\n",
       "\n",
       "    .dataframe thead th {\n",
       "        text-align: right;\n",
       "    }\n",
       "</style>\n",
       "<table border=\"1\" class=\"dataframe\">\n",
       "  <thead>\n",
       "    <tr style=\"text-align: right;\">\n",
       "      <th></th>\n",
       "      <th>Unnamed: 0</th>\n",
       "      <th>Email Text</th>\n",
       "      <th>Email Type</th>\n",
       "    </tr>\n",
       "  </thead>\n",
       "  <tbody>\n",
       "    <tr>\n",
       "      <th>0</th>\n",
       "      <td>0</td>\n",
       "      <td>re : 6 . 1100 , disc : uniformitarianism , re ...</td>\n",
       "      <td>Safe Email</td>\n",
       "    </tr>\n",
       "    <tr>\n",
       "      <th>1</th>\n",
       "      <td>1</td>\n",
       "      <td>the other side of * galicismos * * galicismo *...</td>\n",
       "      <td>Safe Email</td>\n",
       "    </tr>\n",
       "    <tr>\n",
       "      <th>2</th>\n",
       "      <td>2</td>\n",
       "      <td>re : equistar deal tickets are you still avail...</td>\n",
       "      <td>Safe Email</td>\n",
       "    </tr>\n",
       "    <tr>\n",
       "      <th>3</th>\n",
       "      <td>3</td>\n",
       "      <td>\\nHello I am your hot lil horny toy.\\n    I am...</td>\n",
       "      <td>Phishing Email</td>\n",
       "    </tr>\n",
       "    <tr>\n",
       "      <th>4</th>\n",
       "      <td>4</td>\n",
       "      <td>software at incredibly low prices ( 86 % lower...</td>\n",
       "      <td>Phishing Email</td>\n",
       "    </tr>\n",
       "  </tbody>\n",
       "</table>\n",
       "</div>"
      ],
      "text/plain": [
       "   Unnamed: 0                                         Email Text  \\\n",
       "0           0  re : 6 . 1100 , disc : uniformitarianism , re ...   \n",
       "1           1  the other side of * galicismos * * galicismo *...   \n",
       "2           2  re : equistar deal tickets are you still avail...   \n",
       "3           3  \\nHello I am your hot lil horny toy.\\n    I am...   \n",
       "4           4  software at incredibly low prices ( 86 % lower...   \n",
       "\n",
       "       Email Type  \n",
       "0      Safe Email  \n",
       "1      Safe Email  \n",
       "2      Safe Email  \n",
       "3  Phishing Email  \n",
       "4  Phishing Email  "
      ]
     },
     "execution_count": 3,
     "metadata": {},
     "output_type": "execute_result"
    }
   ],
   "source": [
    "# Read in data\n",
    "df = pd.read_csv('./dataset/Phishing_Email.csv')\n",
    "print(df.shape)\n",
    "\n",
    "df.head()"
   ]
  },
  {
   "cell_type": "markdown",
   "id": "0afaa9e9",
   "metadata": {
    "papermill": {
     "duration": 0.02858,
     "end_time": "2021-11-05T04:49:03.117381",
     "exception": false,
     "start_time": "2021-11-05T04:49:03.088801",
     "status": "completed"
    },
    "tags": []
   },
   "source": [
    "### Exploring columns in the dataframe"
   ]
  },
  {
   "cell_type": "code",
   "execution_count": 4,
   "id": "5520f3d9",
   "metadata": {
    "execution": {
     "iopub.execute_input": "2021-11-05T04:49:03.188409Z",
     "iopub.status.busy": "2021-11-05T04:49:03.187693Z",
     "iopub.status.idle": "2021-11-05T04:49:03.213662Z",
     "shell.execute_reply": "2021-11-05T04:49:03.213074Z",
     "shell.execute_reply.started": "2021-11-05T04:43:16.440530Z"
    },
    "papermill": {
     "duration": 0.062188,
     "end_time": "2021-11-05T04:49:03.213803",
     "exception": false,
     "start_time": "2021-11-05T04:49:03.151615",
     "status": "completed"
    },
    "tags": []
   },
   "outputs": [
    {
     "name": "stdout",
     "output_type": "stream",
     "text": [
      "<class 'pandas.core.frame.DataFrame'>\n",
      "RangeIndex: 18650 entries, 0 to 18649\n",
      "Data columns (total 3 columns):\n",
      " #   Column      Non-Null Count  Dtype \n",
      "---  ------      --------------  ----- \n",
      " 0   Unnamed: 0  18650 non-null  int64 \n",
      " 1   Email Text  18634 non-null  object\n",
      " 2   Email Type  18650 non-null  object\n",
      "dtypes: int64(1), object(2)\n",
      "memory usage: 437.2+ KB\n"
     ]
    }
   ],
   "source": [
    "df.info()"
   ]
  },
  {
   "cell_type": "markdown",
   "id": "393dcc36",
   "metadata": {
    "papermill": {
     "duration": 0.084938,
     "end_time": "2021-11-05T04:49:03.329552",
     "exception": false,
     "start_time": "2021-11-05T04:49:03.244614",
     "status": "completed"
    },
    "tags": []
   },
   "source": [
    "### Checking Whether the Data contains any Null Values"
   ]
  },
  {
   "cell_type": "code",
   "execution_count": 5,
   "id": "db0b6b17",
   "metadata": {
    "execution": {
     "iopub.execute_input": "2021-11-05T04:49:03.391381Z",
     "iopub.status.busy": "2021-11-05T04:49:03.390408Z",
     "iopub.status.idle": "2021-11-05T04:49:03.398845Z",
     "shell.execute_reply": "2021-11-05T04:49:03.399378Z",
     "shell.execute_reply.started": "2021-11-05T04:43:16.471164Z"
    },
    "papermill": {
     "duration": 0.040825,
     "end_time": "2021-11-05T04:49:03.399547",
     "exception": false,
     "start_time": "2021-11-05T04:49:03.358722",
     "status": "completed"
    },
    "tags": []
   },
   "outputs": [
    {
     "data": {
      "text/plain": [
       "Unnamed: 0     0\n",
       "Email Text    16\n",
       "Email Type     0\n",
       "dtype: int64"
      ]
     },
     "execution_count": 5,
     "metadata": {},
     "output_type": "execute_result"
    }
   ],
   "source": [
    "df.isna().sum()"
   ]
  },
  {
   "cell_type": "markdown",
   "id": "b4fc4288",
   "metadata": {
    "papermill": {
     "duration": 0.028649,
     "end_time": "2021-11-05T04:49:03.458125",
     "exception": false,
     "start_time": "2021-11-05T04:49:03.429476",
     "status": "completed"
    },
    "tags": []
   },
   "source": [
    "### Composition of Phising and Safe mails in the Data using simple CountPlot of Seaborn"
   ]
  },
  {
   "cell_type": "code",
   "execution_count": 6,
   "id": "ce957e91",
   "metadata": {
    "execution": {
     "iopub.execute_input": "2021-11-05T04:49:03.519385Z",
     "iopub.status.busy": "2021-11-05T04:49:03.518457Z",
     "iopub.status.idle": "2021-11-05T04:49:04.558749Z",
     "shell.execute_reply": "2021-11-05T04:49:04.558198Z",
     "shell.execute_reply.started": "2021-11-05T04:43:16.482873Z"
    },
    "papermill": {
     "duration": 1.071909,
     "end_time": "2021-11-05T04:49:04.558886",
     "exception": false,
     "start_time": "2021-11-05T04:49:03.486977",
     "status": "completed"
    },
    "tags": []
   },
   "outputs": [
    {
     "data": {
      "text/plain": [
       "<AxesSubplot:xlabel='Email Type', ylabel='count'>"
      ]
     },
     "execution_count": 6,
     "metadata": {},
     "output_type": "execute_result"
    },
    {
     "data": {
      "image/png": "[encoded data removed]",
      "text/plain": [
       "<Figure size 640x480 with 1 Axes>"
      ]
     },
     "metadata": {},
     "output_type": "display_data"
    }
   ],
   "source": [
    "import seaborn as sns\n",
    "sns.countplot(x=\"Email Type\",data=df)"
   ]
  },
  {
   "cell_type": "code",
   "execution_count": 8,
   "id": "e1b945e7",
   "metadata": {
    "execution": {
     "iopub.execute_input": "2021-11-05T04:49:04.762670Z",
     "iopub.status.busy": "2021-11-05T04:49:04.761898Z",
     "iopub.status.idle": "2021-11-05T04:49:04.765609Z",
     "shell.execute_reply": "2021-11-05T04:49:04.765036Z",
     "shell.execute_reply.started": "2021-11-05T04:43:17.724639Z"
    },
    "papermill": {
     "duration": 0.051325,
     "end_time": "2021-11-05T04:49:04.765747",
     "exception": false,
     "start_time": "2021-11-05T04:49:04.714422",
     "status": "completed"
    },
    "tags": []
   },
   "outputs": [
    {
     "name": "stdout",
     "output_type": "stream",
     "text": [
      "re : 6 . 1100 , disc : uniformitarianism , re : 1086 ; sex / lang dick hudson 's observations on us use of 's on ' but not 'd aughter ' as a vocative are very thought-provoking , but i am not sure that it is fair to attribute this to \" sons \" being \" treated like senior relatives \" . for one thing , we do n't normally use ' brother ' in this way any more than we do 'd aughter ' , and it is hard to imagine a natural class comprising senior relatives and 's on ' but excluding ' brother ' . for another , there seem to me to be differences here . if i am not imagining a distinction that is not there , it seems to me that the senior relative terms are used in a wider variety of contexts , e . g . , calling out from a distance to get someone 's attention , and hence at the beginning of an utterance , whereas 's on ' seems more natural in utterances like ' yes , son ' , ' hand me that , son ' than in ones like ' son ! ' or ' son , help me ! ' ( although perhaps these latter ones are not completely impossible ) . alexis mr\n"
     ]
    }
   ],
   "source": [
    "print(df['Email Text'][0])"
   ]
  },
  {
   "cell_type": "code",
   "execution_count": 9,
   "id": "b9db1bbb",
   "metadata": {
    "execution": {
     "iopub.execute_input": "2021-11-05T04:49:04.834509Z",
     "iopub.status.busy": "2021-11-05T04:49:04.833922Z",
     "iopub.status.idle": "2021-11-05T04:49:20.578113Z",
     "shell.execute_reply": "2021-11-05T04:49:20.577382Z",
     "shell.execute_reply.started": "2021-11-05T04:43:17.734386Z"
    },
    "papermill": {
     "duration": 15.777245,
     "end_time": "2021-11-05T04:49:20.578305",
     "exception": false,
     "start_time": "2021-11-05T04:49:04.801060",
     "status": "completed"
    },
    "tags": []
   },
   "outputs": [
    {
     "name": "stdout",
     "output_type": "stream",
     "text": [
      "Collecting contractions\n",
      "  Downloading contractions-0.1.73-py2.py3-none-any.whl (8.7 kB)\n",
      "Collecting textsearch>=0.0.21\n",
      "  Downloading textsearch-0.0.24-py2.py3-none-any.whl (7.6 kB)\n",
      "Collecting pyahocorasick\n",
      "  Downloading pyahocorasick-2.0.0-cp37-cp37m-manylinux_2_5_x86_64.manylinux1_x86_64.whl (101 kB)\n",
      "\u001b[2K     \u001b[90m━━━━━━━━━━━━━━━━━━━━━━━━━━━━━━━━━━━━━━━\u001b[0m \u001b[32m101.8/101.8 kB\u001b[0m \u001b[31m9.3 MB/s\u001b[0m eta \u001b[36m0:00:00\u001b[0m\n",
      "\u001b[?25hCollecting anyascii\n",
      "  Downloading anyascii-0.3.2-py3-none-any.whl (289 kB)\n",
      "\u001b[2K     \u001b[90m━━━━━━━━━━━━━━━━━━━━━━━━━━━━━━━━━━━━━━\u001b[0m \u001b[32m289.9/289.9 kB\u001b[0m \u001b[31m10.6 MB/s\u001b[0m eta \u001b[36m0:00:00\u001b[0m\n",
      "\u001b[?25hInstalling collected packages: pyahocorasick, anyascii, textsearch, contractions\n",
      "Successfully installed anyascii-0.3.2 contractions-0.1.73 pyahocorasick-2.0.0 textsearch-0.0.24\n",
      "\u001b[33mWARNING: There was an error checking the latest version of pip.\u001b[0m\u001b[33m\n",
      "\u001b[0m"
     ]
    }
   ],
   "source": [
    "!pip install contractions"
   ]
  },
  {
   "cell_type": "code",
   "execution_count": 10,
   "id": "17bb2afd",
   "metadata": {
    "execution": {
     "iopub.execute_input": "2021-11-05T04:49:20.659112Z",
     "iopub.status.busy": "2021-11-05T04:49:20.658189Z",
     "iopub.status.idle": "2021-11-05T04:49:21.751596Z",
     "shell.execute_reply": "2021-11-05T04:49:21.752063Z",
     "shell.execute_reply.started": "2021-11-05T04:43:33.023180Z"
    },
    "papermill": {
     "duration": 1.136774,
     "end_time": "2021-11-05T04:49:21.752253",
     "exception": false,
     "start_time": "2021-11-05T04:49:20.615479",
     "status": "completed"
    },
    "tags": []
   },
   "outputs": [
    {
     "name": "stderr",
     "output_type": "stream",
     "text": [
      "[nltk_data] Downloading package stopwords to /home/anshu/nltk_data...\n",
      "[nltk_data]   Package stopwords is already up-to-date!\n"
     ]
    }
   ],
   "source": [
    "import contractions\n",
    "from tqdm import tqdm\n",
    "import nltk\n",
    "import re\n",
    "nltk.download('stopwords')\n",
    "from nltk.corpus import stopwords\n",
    "stopwords=stopwords.words('english')\n",
    "stopwords.remove('no')\n",
    "stopwords.remove('nor')\n",
    "stopwords.remove('not')"
   ]
  },
  {
   "cell_type": "code",
   "execution_count": null,
   "id": "2c7b50b8",
   "metadata": {
    "execution": {
     "iopub.execute_input": "2021-11-05T04:49:21.833050Z",
     "iopub.status.busy": "2021-11-05T04:49:21.832365Z",
     "iopub.status.idle": "2021-11-05T04:49:23.956877Z",
     "shell.execute_reply": "2021-11-05T04:49:23.957402Z",
     "shell.execute_reply.started": "2021-11-05T04:43:33.969813Z"
    },
    "papermill": {
     "duration": 2.168262,
     "end_time": "2021-11-05T04:49:23.957575",
     "exception": false,
     "start_time": "2021-11-05T04:49:21.789313",
     "status": "completed"
    },
    "tags": []
   },
   "outputs": [],
   "source": [
    "processed_mails=[]\n",
    "for i in tqdm(df['Email Text']):\n",
    "    processed_mails.append(\" \".join([j.lower() for j in i.split() if j not in stopwords and len(j)>=3]))"
   ]
  },
  {
   "cell_type": "markdown",
   "id": "c51107d8",
   "metadata": {
    "papermill": {
     "duration": 0.041439,
     "end_time": "2021-11-05T04:49:24.042703",
     "exception": false,
     "start_time": "2021-11-05T04:49:24.001264",
     "status": "completed"
    },
    "tags": []
   },
   "source": [
    "### Creating a Dataframe using all the cleaned Mails"
   ]
  },
  {
   "cell_type": "code",
   "execution_count": null,
   "id": "02877811",
   "metadata": {
    "execution": {
     "iopub.execute_input": "2021-11-05T04:49:24.136231Z",
     "iopub.status.busy": "2021-11-05T04:49:24.132787Z",
     "iopub.status.idle": "2021-11-05T04:49:24.146901Z",
     "shell.execute_reply": "2021-11-05T04:49:24.146339Z",
     "shell.execute_reply.started": "2021-11-05T04:43:36.558645Z"
    },
    "papermill": {
     "duration": 0.061758,
     "end_time": "2021-11-05T04:49:24.147078",
     "exception": false,
     "start_time": "2021-11-05T04:49:24.085320",
     "status": "completed"
    },
    "tags": []
   },
   "outputs": [],
   "source": [
    "#Creating a new datafram using the Processed Reviews\n",
    "processed_df=pd.DataFrame({'text':processed_mails,'Phish/Safe':list(df['Email Type'])})\n",
    "processed_df.head()"
   ]
  },
  {
   "cell_type": "markdown",
   "id": "4cc5bd47",
   "metadata": {
    "papermill": {
     "duration": 0.041643,
     "end_time": "2021-11-05T04:49:24.232873",
     "exception": false,
     "start_time": "2021-11-05T04:49:24.191230",
     "status": "completed"
    },
    "tags": []
   },
   "source": [
    "## <center> Data Preparation </center>"
   ]
  },
  {
   "cell_type": "code",
   "execution_count": 11,
   "id": "5ecb2d8a",
   "metadata": {
    "execution": {
     "iopub.execute_input": "2021-11-05T04:49:24.323185Z",
     "iopub.status.busy": "2021-11-05T04:49:24.322572Z",
     "iopub.status.idle": "2021-11-05T04:49:24.333681Z",
     "shell.execute_reply": "2021-11-05T04:49:24.332988Z",
     "shell.execute_reply.started": "2021-11-05T04:43:36.577218Z"
    },
    "papermill": {
     "duration": 0.058628,
     "end_time": "2021-11-05T04:49:24.333832",
     "exception": false,
     "start_time": "2021-11-05T04:49:24.275204",
     "status": "completed"
    },
    "tags": []
   },
   "outputs": [],
   "source": [
    "#Splitting the data into dependent and independent variables i.e, features and the target columns\n",
    "X=processed_df['text']\n",
    "Y=processed_df['Spam/Ham']\n",
    "#Splitting the data such that 33% will be used for testing and the remaining 67% will be used for training. \n",
    "from sklearn.model_selection import train_test_split\n",
    "x_train,x_test,y_train,y_test=train_test_split(X,Y,stratify=Y,test_size=0.33)\n",
    "#when stratify is provided the splitting of data into train and test datasets agree with the composition of actual possitive and negative reviews present in the dataset"
   ]
  },
  {
   "cell_type": "code",
   "execution_count": 12,
   "id": "a1998d68",
   "metadata": {
    "execution": {
     "iopub.execute_input": "2021-11-05T04:49:24.523016Z",
     "iopub.status.busy": "2021-11-05T04:49:24.522191Z",
     "iopub.status.idle": "2021-11-05T04:49:24.704613Z",
     "shell.execute_reply": "2021-11-05T04:49:24.703991Z",
     "shell.execute_reply.started": "2021-11-05T04:43:36.599962Z"
    },
    "papermill": {
     "duration": 0.232228,
     "end_time": "2021-11-05T04:49:24.704753",
     "exception": false,
     "start_time": "2021-11-05T04:49:24.472525",
     "status": "completed"
    },
    "tags": []
   },
   "outputs": [],
   "source": [
    "from gensim.models import Word2Vec"
   ]
  },
  {
   "cell_type": "markdown",
   "id": "17780307",
   "metadata": {
    "papermill": {
     "duration": 0.047253,
     "end_time": "2021-11-05T04:49:24.892649",
     "exception": false,
     "start_time": "2021-11-05T04:49:24.845396",
     "status": "completed"
    },
    "tags": []
   },
   "source": [
    "## Creating the data for training the Word2Vec model"
   ]
  },
  {
   "cell_type": "code",
   "execution_count": 13,
   "id": "b12ae536",
   "metadata": {
    "execution": {
     "iopub.execute_input": "2021-11-05T04:49:25.070237Z",
     "iopub.status.busy": "2021-11-05T04:49:25.069299Z",
     "iopub.status.idle": "2021-11-05T04:49:25.113609Z",
     "shell.execute_reply": "2021-11-05T04:49:25.113037Z",
     "shell.execute_reply.started": "2021-11-05T04:43:36.890363Z"
    },
    "papermill": {
     "duration": 0.089785,
     "end_time": "2021-11-05T04:49:25.113774",
     "exception": false,
     "start_time": "2021-11-05T04:49:25.023989",
     "status": "completed"
    },
    "tags": []
   },
   "outputs": [
    {
     "name": "stderr",
     "output_type": "stream",
     "text": [
      "100%|██████████| 3464/3464 [00:00<00:00, 94418.79it/s]\n"
     ]
    }
   ],
   "source": [
    "words_in_sentences=[]\n",
    "for i in tqdm(x_train):\n",
    "    words_in_sentences.append(i.split())"
   ]
  },
  {
   "cell_type": "markdown",
   "id": "bcaf4b93",
   "metadata": {
    "papermill": {
     "duration": 0.043757,
     "end_time": "2021-11-05T04:49:25.201268",
     "exception": false,
     "start_time": "2021-11-05T04:49:25.157511",
     "status": "completed"
    },
    "tags": []
   },
   "source": [
    "### Training a Word2Vec Model with our Custom data"
   ]
  },
  {
   "cell_type": "code",
   "execution_count": 14,
   "id": "cb53e6d0",
   "metadata": {
    "execution": {
     "iopub.execute_input": "2021-11-05T04:49:25.289909Z",
     "iopub.status.busy": "2021-11-05T04:49:25.289336Z",
     "iopub.status.idle": "2021-11-05T04:49:25.542358Z",
     "shell.execute_reply": "2021-11-05T04:49:25.543149Z",
     "shell.execute_reply.started": "2021-11-05T04:43:36.944376Z"
    },
    "papermill": {
     "duration": 0.299264,
     "end_time": "2021-11-05T04:49:25.543366",
     "exception": false,
     "start_time": "2021-11-05T04:49:25.244102",
     "status": "completed"
    },
    "tags": []
   },
   "outputs": [],
   "source": [
    "model = Word2Vec(sentences=words_in_sentences, vector_size=200,workers=-1)"
   ]
  },
  {
   "cell_type": "markdown",
   "id": "ce63f54f",
   "metadata": {
    "papermill": {
     "duration": 0.04317,
     "end_time": "2021-11-05T04:49:26.063555",
     "exception": false,
     "start_time": "2021-11-05T04:49:26.020385",
     "status": "completed"
    },
    "tags": []
   },
   "source": [
    "## Total number of words in the Vocabulary on which the Word2Vec model is trained."
   ]
  },
  {
   "cell_type": "code",
   "execution_count": 17,
   "id": "8a379913",
   "metadata": {
    "execution": {
     "iopub.execute_input": "2021-11-05T04:49:26.154885Z",
     "iopub.status.busy": "2021-11-05T04:49:26.154295Z",
     "iopub.status.idle": "2021-11-05T04:49:26.159168Z",
     "shell.execute_reply": "2021-11-05T04:49:26.159619Z",
     "shell.execute_reply.started": "2021-11-05T04:43:37.479374Z"
    },
    "papermill": {
     "duration": 0.052408,
     "end_time": "2021-11-05T04:49:26.159790",
     "exception": false,
     "start_time": "2021-11-05T04:49:26.107382",
     "status": "completed"
    },
    "tags": []
   },
   "outputs": [
    {
     "name": "stdout",
     "output_type": "stream",
     "text": [
      "6649\n"
     ]
    }
   ],
   "source": [
    "vocab=list(model.wv.key_to_index.keys())\n",
    "print(len(vocab))"
   ]
  },
  {
   "cell_type": "markdown",
   "id": "b790784c",
   "metadata": {
    "papermill": {
     "duration": 0.043415,
     "end_time": "2021-11-05T04:49:26.421716",
     "exception": false,
     "start_time": "2021-11-05T04:49:26.378301",
     "status": "completed"
    },
    "tags": []
   },
   "source": [
    "### **Average Word2Vec , average of word embeddings of all the words given in a sentence is used as the numerical vector for a given sentence.**"
   ]
  },
  {
   "cell_type": "code",
   "execution_count": 18,
   "id": "a106e3d3",
   "metadata": {
    "execution": {
     "iopub.execute_input": "2021-11-05T04:49:26.513134Z",
     "iopub.status.busy": "2021-11-05T04:49:26.512244Z",
     "iopub.status.idle": "2021-11-05T04:49:26.517418Z",
     "shell.execute_reply": "2021-11-05T04:49:26.517820Z",
     "shell.execute_reply.started": "2021-11-05T04:43:37.508907Z"
    },
    "papermill": {
     "duration": 0.052715,
     "end_time": "2021-11-05T04:49:26.518003",
     "exception": false,
     "start_time": "2021-11-05T04:49:26.465288",
     "status": "completed"
    },
    "tags": []
   },
   "outputs": [],
   "source": [
    "def avg_w2vec(sentences):\n",
    "    transformed=[]\n",
    "    for sentence in tqdm(sentences):\n",
    "        count=0\n",
    "        vector=np.zeros(200)\n",
    "        for word in sentence.split():\n",
    "            if word in vocab:\n",
    "                vector+=model.wv.get_vector(word)\n",
    "                count+=1\n",
    "        if count!=0:\n",
    "            vector/=count\n",
    "            transformed.append(vector)\n",
    "        else:\n",
    "            print(sentence)\n",
    "    return np.array(transformed)"
   ]
  },
  {
   "cell_type": "code",
   "execution_count": 19,
   "id": "008c3d95",
   "metadata": {
    "execution": {
     "iopub.execute_input": "2021-11-05T04:49:26.609264Z",
     "iopub.status.busy": "2021-11-05T04:49:26.608366Z",
     "iopub.status.idle": "2021-11-05T04:49:42.136234Z",
     "shell.execute_reply": "2021-11-05T04:49:42.135589Z",
     "shell.execute_reply.started": "2021-11-05T04:43:37.537551Z"
    },
    "papermill": {
     "duration": 15.574453,
     "end_time": "2021-11-05T04:49:42.136388",
     "exception": false,
     "start_time": "2021-11-05T04:49:26.561935",
     "status": "completed"
    },
    "tags": []
   },
   "outputs": [
    {
     "name": "stderr",
     "output_type": "stream",
     "text": [
      "100%|██████████| 3464/3464 [00:10<00:00, 341.47it/s]\n",
      "100%|██████████| 1707/1707 [00:05<00:00, 318.37it/s]\n"
     ]
    }
   ],
   "source": [
    "x_train_transformed=avg_w2vec(x_train)\n",
    "x_test_transformed=avg_w2vec(x_test)"
   ]
  },
  {
   "cell_type": "markdown",
   "id": "65ef5828",
   "metadata": {
    "papermill": {
     "duration": 0.073537,
     "end_time": "2021-11-05T04:49:42.283898",
     "exception": false,
     "start_time": "2021-11-05T04:49:42.210361",
     "status": "completed"
    },
    "tags": []
   },
   "source": [
    "## Using K-Nearest Neighbors Algorithm for classification"
   ]
  },
  {
   "cell_type": "code",
   "execution_count": 20,
   "id": "680d2dcc",
   "metadata": {
    "execution": {
     "iopub.execute_input": "2021-11-05T04:49:42.586052Z",
     "iopub.status.busy": "2021-11-05T04:49:42.585425Z",
     "iopub.status.idle": "2021-11-05T04:49:55.592358Z",
     "shell.execute_reply": "2021-11-05T04:49:55.591550Z",
     "shell.execute_reply.started": "2021-11-05T04:43:55.541040Z"
    },
    "papermill": {
     "duration": 13.086374,
     "end_time": "2021-11-05T04:49:55.592564",
     "exception": false,
     "start_time": "2021-11-05T04:49:42.506190",
     "status": "completed"
    },
    "tags": []
   },
   "outputs": [
    {
     "name": "stdout",
     "output_type": "stream",
     "text": [
      "Fitting 5 folds for each of 6 candidates, totalling 30 fits\n"
     ]
    },
    {
     "name": "stderr",
     "output_type": "stream",
     "text": [
      "/opt/conda/lib/python3.7/site-packages/sklearn/model_selection/_search.py:282: UserWarning: The total space of parameters 6 is smaller than n_iter=10. Running 6 iterations. For exhaustive searches, use GridSearchCV.\n",
      "  % (grid_size, self.n_iter, grid_size), UserWarning)\n",
      "[Parallel(n_jobs=-1)]: Using backend LokyBackend with 4 concurrent workers.\n",
      "[Parallel(n_jobs=-1)]: Done  30 out of  30 | elapsed:   12.7s finished\n"
     ]
    },
    {
     "data": {
      "text/plain": [
       "RandomizedSearchCV(estimator=KNeighborsClassifier(), n_jobs=-1,\n",
       "                   param_distributions={'metric': ['manhattan'],\n",
       "                                        'n_neighbors': [10, 20, 30, 40, 50,\n",
       "                                                        60]},\n",
       "                   random_state=0, verbose=1)"
      ]
     },
     "execution_count": 20,
     "metadata": {},
     "output_type": "execute_result"
    }
   ],
   "source": [
    "from sklearn.model_selection import RandomizedSearchCV\n",
    "from sklearn.neighbors import KNeighborsClassifier\n",
    "grid_params = { 'n_neighbors' : [10,20,30,40,50,60],\n",
    "               'metric' : ['manhattan']}\n",
    "knn=KNeighborsClassifier()\n",
    "clf = RandomizedSearchCV(knn, grid_params, random_state=0,n_jobs=-1,verbose=1)\n",
    "clf.fit(x_train_transformed,y_train)"
   ]
  },
  {
   "cell_type": "code",
   "execution_count": 21,
   "id": "a64513fa",
   "metadata": {
    "execution": {
     "iopub.execute_input": "2021-11-05T04:49:55.749637Z",
     "iopub.status.busy": "2021-11-05T04:49:55.749010Z",
     "iopub.status.idle": "2021-11-05T04:49:55.751346Z",
     "shell.execute_reply": "2021-11-05T04:49:55.751779Z",
     "shell.execute_reply.started": "2021-11-05T04:44:08.914522Z"
    },
    "papermill": {
     "duration": 0.083079,
     "end_time": "2021-11-05T04:49:55.751964",
     "exception": false,
     "start_time": "2021-11-05T04:49:55.668885",
     "status": "completed"
    },
    "tags": []
   },
   "outputs": [
    {
     "data": {
      "text/plain": [
       "{'n_neighbors': 10, 'metric': 'manhattan'}"
      ]
     },
     "execution_count": 21,
     "metadata": {},
     "output_type": "execute_result"
    }
   ],
   "source": [
    "clf.best_params_"
   ]
  },
  {
   "cell_type": "code",
   "execution_count": 22,
   "id": "227d8f5e",
   "metadata": {
    "execution": {
     "iopub.execute_input": "2021-11-05T04:49:55.906913Z",
     "iopub.status.busy": "2021-11-05T04:49:55.906311Z",
     "iopub.status.idle": "2021-11-05T04:49:55.911439Z",
     "shell.execute_reply": "2021-11-05T04:49:55.910962Z",
     "shell.execute_reply.started": "2021-11-05T04:44:08.923040Z"
    },
    "papermill": {
     "duration": 0.084854,
     "end_time": "2021-11-05T04:49:55.911575",
     "exception": false,
     "start_time": "2021-11-05T04:49:55.826721",
     "status": "completed"
    },
    "tags": []
   },
   "outputs": [
    {
     "data": {
      "text/plain": [
       "0.7982066745072525"
      ]
     },
     "execution_count": 22,
     "metadata": {},
     "output_type": "execute_result"
    }
   ],
   "source": [
    "clf.best_score_"
   ]
  },
  {
   "cell_type": "code",
   "execution_count": 23,
   "id": "7965cacb",
   "metadata": {
    "execution": {
     "iopub.execute_input": "2021-11-05T04:49:56.072381Z",
     "iopub.status.busy": "2021-11-05T04:49:56.071748Z",
     "iopub.status.idle": "2021-11-05T04:49:56.075304Z",
     "shell.execute_reply": "2021-11-05T04:49:56.074839Z",
     "shell.execute_reply.started": "2021-11-05T04:44:08.934444Z"
    },
    "papermill": {
     "duration": 0.087931,
     "end_time": "2021-11-05T04:49:56.075438",
     "exception": false,
     "start_time": "2021-11-05T04:49:55.987507",
     "status": "completed"
    },
    "tags": []
   },
   "outputs": [
    {
     "data": {
      "text/plain": [
       "{'mean_fit_time': array([0.07366505, 0.07172437, 0.0677135 , 0.06882086, 0.0704308 ,\n",
       "        0.06964426]),\n",
       " 'std_fit_time': array([0.0036415 , 0.0049972 , 0.00091277, 0.00101656, 0.00287808,\n",
       "        0.00145807]),\n",
       " 'mean_score_time': array([1.22993546, 1.41144609, 1.24042358, 1.23959513, 1.2854876 ,\n",
       "        1.13555822]),\n",
       " 'std_score_time': array([0.08687633, 0.12765505, 0.00435392, 0.00441002, 0.02044739,\n",
       "        0.19104584]),\n",
       " 'param_n_neighbors': masked_array(data=[10, 20, 30, 40, 50, 60],\n",
       "              mask=[False, False, False, False, False, False],\n",
       "        fill_value='?',\n",
       "             dtype=object),\n",
       " 'param_metric': masked_array(data=['manhattan', 'manhattan', 'manhattan', 'manhattan',\n",
       "                    'manhattan', 'manhattan'],\n",
       "              mask=[False, False, False, False, False, False],\n",
       "        fill_value='?',\n",
       "             dtype=object),\n",
       " 'params': [{'n_neighbors': 10, 'metric': 'manhattan'},\n",
       "  {'n_neighbors': 20, 'metric': 'manhattan'},\n",
       "  {'n_neighbors': 30, 'metric': 'manhattan'},\n",
       "  {'n_neighbors': 40, 'metric': 'manhattan'},\n",
       "  {'n_neighbors': 50, 'metric': 'manhattan'},\n",
       "  {'n_neighbors': 60, 'metric': 'manhattan'}],\n",
       " 'split0_test_score': array([0.79365079, 0.76479076, 0.73881674, 0.73015873, 0.72871573,\n",
       "        0.72438672]),\n",
       " 'split1_test_score': array([0.8008658 , 0.76623377, 0.74170274, 0.74314574, 0.73304473,\n",
       "        0.73448773]),\n",
       " 'split2_test_score': array([0.7950938 , 0.77200577, 0.75468975, 0.74891775, 0.74314574,\n",
       "        0.74170274]),\n",
       " 'split3_test_score': array([0.81529582, 0.78066378, 0.75757576, 0.74891775, 0.74170274,\n",
       "        0.73448773]),\n",
       " 'split4_test_score': array([0.78612717, 0.73699422, 0.72398844, 0.72543353, 0.72109827,\n",
       "        0.72398844]),\n",
       " 'mean_test_score': array([0.79820667, 0.76413766, 0.74335469, 0.7393147 , 0.73354144,\n",
       "        0.73181067]),\n",
       " 'std_test_score': array([0.00975162, 0.01467383, 0.01207556, 0.00975328, 0.00821238,\n",
       "        0.00676001]),\n",
       " 'rank_test_score': array([1, 2, 3, 4, 5, 6], dtype=int32)}"
      ]
     },
     "execution_count": 23,
     "metadata": {},
     "output_type": "execute_result"
    }
   ],
   "source": [
    "clf.cv_results_"
   ]
  },
  {
   "cell_type": "markdown",
   "id": "2cfd0f16",
   "metadata": {
    "papermill": {
     "duration": 0.075479,
     "end_time": "2021-11-05T04:49:56.227733",
     "exception": false,
     "start_time": "2021-11-05T04:49:56.152254",
     "status": "completed"
    },
    "tags": []
   },
   "source": [
    "# <center><b> Model Evaluation </b></center>"
   ]
  },
  {
   "cell_type": "markdown",
   "id": "7ab0c31b",
   "metadata": {
    "papermill": {
     "duration": 0.075549,
     "end_time": "2021-11-05T04:49:56.532570",
     "exception": false,
     "start_time": "2021-11-05T04:49:56.457021",
     "status": "completed"
    },
    "tags": []
   },
   "source": [
    "## Plotting the ROC curve for the prediction on both Training and Testing Data"
   ]
  },
  {
   "cell_type": "code",
   "execution_count": 24,
   "id": "d265d837",
   "metadata": {
    "execution": {
     "iopub.execute_input": "2021-11-05T04:49:56.689065Z",
     "iopub.status.busy": "2021-11-05T04:49:56.688436Z",
     "iopub.status.idle": "2021-11-05T04:50:03.828382Z",
     "shell.execute_reply": "2021-11-05T04:50:03.828849Z",
     "shell.execute_reply.started": "2021-11-05T04:44:39.555282Z"
    },
    "papermill": {
     "duration": 7.220825,
     "end_time": "2021-11-05T04:50:03.829046",
     "exception": false,
     "start_time": "2021-11-05T04:49:56.608221",
     "status": "completed"
    },
    "tags": []
   },
   "outputs": [],
   "source": [
    "from sklearn.metrics import roc_curve, auc,classification_report,confusion_matrix\n",
    "train_fpr,train_tpr,thresholds=roc_curve(y_train,clf.predict_proba(x_train_transformed)[:,1])\n",
    "test_fpr,test_tpr,thresholds=roc_curve(y_test,clf.predict_proba(x_test_transformed)[:,1])"
   ]
  },
  {
   "cell_type": "code",
   "execution_count": 25,
   "id": "5da4c566",
   "metadata": {
    "execution": {
     "iopub.execute_input": "2021-11-05T04:50:03.990044Z",
     "iopub.status.busy": "2021-11-05T04:50:03.989386Z",
     "iopub.status.idle": "2021-11-05T04:50:04.255838Z",
     "shell.execute_reply": "2021-11-05T04:50:04.255376Z",
     "shell.execute_reply.started": "2021-11-05T04:44:16.005661Z"
    },
    "papermill": {
     "duration": 0.350076,
     "end_time": "2021-11-05T04:50:04.255987",
     "exception": false,
     "start_time": "2021-11-05T04:50:03.905911",
     "status": "completed"
    },
    "tags": []
   },
   "outputs": [
    {
     "data": {
      "image/png": "[encoded data removed]",
      "text/plain": [
       "<Figure size 432x288 with 1 Axes>"
      ]
     },
     "metadata": {
      "needs_background": "light"
     },
     "output_type": "display_data"
    }
   ],
   "source": [
    "import matplotlib.pyplot as plt\n",
    "plt.plot(train_fpr,train_tpr,label=\"Training Accuracy=\"+str(round(auc(train_fpr, train_tpr),2)))\n",
    "plt.plot(test_fpr,test_tpr,label=\"Testing Accuracy =\"+str(round(auc(test_fpr, test_tpr),2)))\n",
    "plt.scatter(train_fpr,train_tpr,label=\"Training Accuracy=\"+str(round(auc(train_fpr, train_tpr),2)))\n",
    "plt.scatter(test_fpr,test_tpr,label=\"Testing Accuracy =\"+str(round(auc(test_fpr, test_tpr),2)))\n",
    "plt.legend()\n",
    "plt.xlabel(\"Thresholds\")\n",
    "plt.ylabel(\"ACCURACY\")\n",
    "plt.title(\"Training and Testing ROC Curves\")\n",
    "plt.show()"
   ]
  },
  {
   "cell_type": "markdown",
   "id": "3ead4267",
   "metadata": {
    "papermill": {
     "duration": 0.078931,
     "end_time": "2021-11-05T04:50:04.411731",
     "exception": false,
     "start_time": "2021-11-05T04:50:04.332800",
     "status": "completed"
    },
    "tags": []
   },
   "source": [
    "## Confusion Matrix and Classification Report for Prediction made on Training and Testing data"
   ]
  },
  {
   "cell_type": "code",
   "execution_count": 26,
   "id": "1e4109d5",
   "metadata": {
    "execution": {
     "iopub.execute_input": "2021-11-05T04:50:04.575374Z",
     "iopub.status.busy": "2021-11-05T04:50:04.574695Z",
     "iopub.status.idle": "2021-11-05T04:50:09.597259Z",
     "shell.execute_reply": "2021-11-05T04:50:09.597680Z",
     "shell.execute_reply.started": "2021-11-05T04:44:46.517917Z"
    },
    "papermill": {
     "duration": 5.104553,
     "end_time": "2021-11-05T04:50:09.597849",
     "exception": false,
     "start_time": "2021-11-05T04:50:04.493296",
     "status": "completed"
    },
    "tags": []
   },
   "outputs": [
    {
     "data": {
      "image/png": "[encoded data removed]",
      "text/plain": [
       "<Figure size 432x288 with 2 Axes>"
      ]
     },
     "metadata": {
      "needs_background": "light"
     },
     "output_type": "display_data"
    }
   ],
   "source": [
    "sns.heatmap(confusion_matrix(y_train,clf.predict(x_train_transformed)),annot=True)\n",
    "plt.show()"
   ]
  },
  {
   "cell_type": "code",
   "execution_count": 27,
   "id": "ea5f86aa",
   "metadata": {
    "execution": {
     "iopub.execute_input": "2021-11-05T04:50:09.756666Z",
     "iopub.status.busy": "2021-11-05T04:50:09.755716Z",
     "iopub.status.idle": "2021-11-05T04:50:14.605742Z",
     "shell.execute_reply": "2021-11-05T04:50:14.606303Z",
     "shell.execute_reply.started": "2021-11-05T04:44:55.995830Z"
    },
    "papermill": {
     "duration": 4.931518,
     "end_time": "2021-11-05T04:50:14.606492",
     "exception": false,
     "start_time": "2021-11-05T04:50:09.674974",
     "status": "completed"
    },
    "tags": []
   },
   "outputs": [
    {
     "name": "stdout",
     "output_type": "stream",
     "text": [
      "              precision    recall  f1-score   support\n",
      "\n",
      "           0       0.95      0.83      0.89      2460\n",
      "           1       0.69      0.88      0.77      1004\n",
      "\n",
      "    accuracy                           0.85      3464\n",
      "   macro avg       0.82      0.86      0.83      3464\n",
      "weighted avg       0.87      0.85      0.85      3464\n",
      "\n"
     ]
    }
   ],
   "source": [
    "print(classification_report(y_train,clf.predict(x_train_transformed)))"
   ]
  },
  {
   "cell_type": "code",
   "execution_count": 28,
   "id": "c04467f5",
   "metadata": {
    "execution": {
     "iopub.execute_input": "2021-11-05T04:50:14.768224Z",
     "iopub.status.busy": "2021-11-05T04:50:14.767580Z",
     "iopub.status.idle": "2021-11-05T04:50:17.369671Z",
     "shell.execute_reply": "2021-11-05T04:50:17.369155Z",
     "shell.execute_reply.started": "2021-11-05T04:45:03.513436Z"
    },
    "papermill": {
     "duration": 2.685206,
     "end_time": "2021-11-05T04:50:17.369814",
     "exception": false,
     "start_time": "2021-11-05T04:50:14.684608",
     "status": "completed"
    },
    "tags": []
   },
   "outputs": [
    {
     "data": {
      "image/png": "[encoded data removed]",
      "text/plain": [
       "<Figure size 432x288 with 2 Axes>"
      ]
     },
     "metadata": {
      "needs_background": "light"
     },
     "output_type": "display_data"
    }
   ],
   "source": [
    "sns.heatmap(confusion_matrix(y_test,clf.predict(x_test_transformed)),annot=True)\n",
    "plt.show()"
   ]
  },
  {
   "cell_type": "code",
   "execution_count": 29,
   "id": "24ab5683",
   "metadata": {
    "execution": {
     "iopub.execute_input": "2021-11-05T04:50:17.530793Z",
     "iopub.status.busy": "2021-11-05T04:50:17.530194Z",
     "iopub.status.idle": "2021-11-05T04:50:19.970913Z",
     "shell.execute_reply": "2021-11-05T04:50:19.971646Z",
     "shell.execute_reply.started": "2021-11-05T04:45:09.651514Z"
    },
    "papermill": {
     "duration": 2.52325,
     "end_time": "2021-11-05T04:50:19.971876",
     "exception": false,
     "start_time": "2021-11-05T04:50:17.448626",
     "status": "completed"
    },
    "tags": []
   },
   "outputs": [
    {
     "name": "stdout",
     "output_type": "stream",
     "text": [
      "              precision    recall  f1-score   support\n",
      "\n",
      "           0       0.93      0.79      0.86      1212\n",
      "           1       0.63      0.85      0.72       495\n",
      "\n",
      "    accuracy                           0.81      1707\n",
      "   macro avg       0.78      0.82      0.79      1707\n",
      "weighted avg       0.84      0.81      0.82      1707\n",
      "\n"
     ]
    }
   ],
   "source": [
    "print(classification_report(y_test,clf.predict(x_test_transformed)))"
   ]
  }
 ],
 "metadata": {
  "kernelspec": {
   "display_name": "Python 3",
   "language": "python",
   "name": "python3"
  },
  "language_info": {
   "codemirror_mode": {
    "name": "ipython",
    "version": 3
   },
   "file_extension": ".py",
   "mimetype": "text/x-python",
   "name": "python",
   "nbconvert_exporter": "python",
   "pygments_lexer": "ipython3",
   "version": "3.7.12"
  },
  "papermill": {
   "default_parameters": {},
   "duration": 87.024219,
   "end_time": "2021-11-05T04:50:21.280769",
   "environment_variables": {},
   "exception": null,
   "input_path": "__notebook__.ipynb",
   "output_path": "__notebook__.ipynb",
   "parameters": {},
   "start_time": "2021-11-05T04:48:54.256550",
   "version": "2.3.3"
  }
 },
 "nbformat": 4,
 "nbformat_minor": 5
}
