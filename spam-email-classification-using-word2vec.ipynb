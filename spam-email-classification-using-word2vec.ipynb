{
 "cells": [
  {
   "cell_type": "markdown",
   "id": "45a811ce",
   "metadata": {
    "papermill": {
     "duration": 0.028919,
     "end_time": "2021-11-05T04:49:02.486544",
     "exception": false,
     "start_time": "2021-11-05T04:49:02.457625",
     "status": "completed"
    },
    "tags": []
   },
   "source": [
    "# <center><u> Spam Email Detection Using Average Word2Vec </u></center>"
   ]
  },
  {
   "cell_type": "markdown",
   "id": "8db1eb49",
   "metadata": {
    "papermill": {
     "duration": 0.027359,
     "end_time": "2021-11-05T04:49:02.543937",
     "exception": false,
     "start_time": "2021-11-05T04:49:02.516578",
     "status": "completed"
    },
    "tags": []
   },
   "source": [
    "<center>\n",
    "    <img src=\"https://miro.medium.com/max/1105/1*nBgCTU_hAVG00eYkcRf6Mw.png\">\n",
    "</center>"
   ]
  },
  {
   "cell_type": "code",
   "execution_count": 1,
   "id": "a24649fa",
   "metadata": {
    "_cell_guid": "b1076dfc-b9ad-4769-8c92-a6c4dae69d19",
    "_uuid": "8f2839f25d086af736a60e9eeb907d3b93b6e0e5",
    "execution": {
     "iopub.execute_input": "2021-11-05T04:49:02.604453Z",
     "iopub.status.busy": "2021-11-05T04:49:02.602710Z",
     "iopub.status.idle": "2021-11-05T04:49:02.631859Z",
     "shell.execute_reply": "2021-11-05T04:49:02.630681Z",
     "shell.execute_reply.started": "2021-11-05T04:43:16.245096Z"
    },
    "papermill": {
     "duration": 0.060779,
     "end_time": "2021-11-05T04:49:02.632140",
     "exception": false,
     "start_time": "2021-11-05T04:49:02.571361",
     "status": "completed"
    },
    "tags": []
   },
   "outputs": [
    {
     "name": "stdout",
     "output_type": "stream",
     "text": [
      "/kaggle/input/spam-mails-dataset/spam_ham_dataset.csv\n"
     ]
    }
   ],
   "source": [
    "import numpy as np\n",
    "import pandas as pd\n",
    "import os\n",
    "for dirname, _, filenames in os.walk('/kaggle/input'):\n",
    "    for filename in filenames:\n",
    "        print(os.path.join(dirname, filename))"
   ]
  },
  {
   "cell_type": "markdown",
   "id": "fd84ec0f",
   "metadata": {
    "papermill": {
     "duration": 0.029263,
     "end_time": "2021-11-05T04:49:02.691932",
     "exception": false,
     "start_time": "2021-11-05T04:49:02.662669",
     "status": "completed"
    },
    "tags": []
   },
   "source": [
    "## <center> Observing Data</center>"
   ]
  },
  {
   "cell_type": "markdown",
   "id": "cbbcb44a",
   "metadata": {
    "papermill": {
     "duration": 0.034658,
     "end_time": "2021-11-05T04:49:02.764041",
     "exception": false,
     "start_time": "2021-11-05T04:49:02.729383",
     "status": "completed"
    },
    "tags": []
   },
   "source": [
    "<center>\n",
    "    <img src=\"https://lh3.googleusercontent.com/proxy/5nM_9EbJxrsKFCdJrhx76zjWyK8L9XNT5ROMU3FS-YutloIdQU0dLNAg8AJEjoCKWc-OBerjmgYvTgZBSds_ADOy\"/>\n",
    "</center>"
   ]
  },
  {
   "cell_type": "markdown",
   "id": "9915790a",
   "metadata": {
    "papermill": {
     "duration": 0.028145,
     "end_time": "2021-11-05T04:49:02.820615",
     "exception": false,
     "start_time": "2021-11-05T04:49:02.792470",
     "status": "completed"
    },
    "tags": []
   },
   "source": [
    "### Looking at Top 5 records in the Data"
   ]
  },
  {
   "cell_type": "code",
   "execution_count": 2,
   "id": "6bd5e11b",
   "metadata": {
    "execution": {
     "iopub.execute_input": "2021-11-05T04:49:02.882843Z",
     "iopub.status.busy": "2021-11-05T04:49:02.882209Z",
     "iopub.status.idle": "2021-11-05T04:49:03.059109Z",
     "shell.execute_reply": "2021-11-05T04:49:03.059581Z",
     "shell.execute_reply.started": "2021-11-05T04:43:16.289434Z"
    },
    "papermill": {
     "duration": 0.209588,
     "end_time": "2021-11-05T04:49:03.059755",
     "exception": false,
     "start_time": "2021-11-05T04:49:02.850167",
     "status": "completed"
    },
    "tags": []
   },
   "outputs": [
    {
     "data": {
      "text/html": [
       "<div>\n",
       "<style scoped>\n",
       "    .dataframe tbody tr th:only-of-type {\n",
       "        vertical-align: middle;\n",
       "    }\n",
       "\n",
       "    .dataframe tbody tr th {\n",
       "        vertical-align: top;\n",
       "    }\n",
       "\n",
       "    .dataframe thead th {\n",
       "        text-align: right;\n",
       "    }\n",
       "</style>\n",
       "<table border=\"1\" class=\"dataframe\">\n",
       "  <thead>\n",
       "    <tr style=\"text-align: right;\">\n",
       "      <th></th>\n",
       "      <th>Unnamed: 0</th>\n",
       "      <th>label</th>\n",
       "      <th>text</th>\n",
       "      <th>label_num</th>\n",
       "    </tr>\n",
       "  </thead>\n",
       "  <tbody>\n",
       "    <tr>\n",
       "      <th>0</th>\n",
       "      <td>605</td>\n",
       "      <td>ham</td>\n",
       "      <td>Subject: enron methanol ; meter # : 988291\\r\\n...</td>\n",
       "      <td>0</td>\n",
       "    </tr>\n",
       "    <tr>\n",
       "      <th>1</th>\n",
       "      <td>2349</td>\n",
       "      <td>ham</td>\n",
       "      <td>Subject: hpl nom for january 9 , 2001\\r\\n( see...</td>\n",
       "      <td>0</td>\n",
       "    </tr>\n",
       "    <tr>\n",
       "      <th>2</th>\n",
       "      <td>3624</td>\n",
       "      <td>ham</td>\n",
       "      <td>Subject: neon retreat\\r\\nho ho ho , we ' re ar...</td>\n",
       "      <td>0</td>\n",
       "    </tr>\n",
       "    <tr>\n",
       "      <th>3</th>\n",
       "      <td>4685</td>\n",
       "      <td>spam</td>\n",
       "      <td>Subject: photoshop , windows , office . cheap ...</td>\n",
       "      <td>1</td>\n",
       "    </tr>\n",
       "    <tr>\n",
       "      <th>4</th>\n",
       "      <td>2030</td>\n",
       "      <td>ham</td>\n",
       "      <td>Subject: re : indian springs\\r\\nthis deal is t...</td>\n",
       "      <td>0</td>\n",
       "    </tr>\n",
       "  </tbody>\n",
       "</table>\n",
       "</div>"
      ],
      "text/plain": [
       "   Unnamed: 0 label                                               text  \\\n",
       "0         605   ham  Subject: enron methanol ; meter # : 988291\\r\\n...   \n",
       "1        2349   ham  Subject: hpl nom for january 9 , 2001\\r\\n( see...   \n",
       "2        3624   ham  Subject: neon retreat\\r\\nho ho ho , we ' re ar...   \n",
       "3        4685  spam  Subject: photoshop , windows , office . cheap ...   \n",
       "4        2030   ham  Subject: re : indian springs\\r\\nthis deal is t...   \n",
       "\n",
       "   label_num  \n",
       "0          0  \n",
       "1          0  \n",
       "2          0  \n",
       "3          1  \n",
       "4          0  "
      ]
     },
     "execution_count": 2,
     "metadata": {},
     "output_type": "execute_result"
    }
   ],
   "source": [
    "df=pd.read_csv('/kaggle/input/spam-mails-dataset/spam_ham_dataset.csv')\n",
    "df.head()"
   ]
  },
  {
   "cell_type": "markdown",
   "id": "0afaa9e9",
   "metadata": {
    "papermill": {
     "duration": 0.02858,
     "end_time": "2021-11-05T04:49:03.117381",
     "exception": false,
     "start_time": "2021-11-05T04:49:03.088801",
     "status": "completed"
    },
    "tags": []
   },
   "source": [
    "### Understanding the datatypes of the columns in the dataframe"
   ]
  },
  {
   "cell_type": "code",
   "execution_count": 3,
   "id": "5520f3d9",
   "metadata": {
    "execution": {
     "iopub.execute_input": "2021-11-05T04:49:03.188409Z",
     "iopub.status.busy": "2021-11-05T04:49:03.187693Z",
     "iopub.status.idle": "2021-11-05T04:49:03.213662Z",
     "shell.execute_reply": "2021-11-05T04:49:03.213074Z",
     "shell.execute_reply.started": "2021-11-05T04:43:16.440530Z"
    },
    "papermill": {
     "duration": 0.062188,
     "end_time": "2021-11-05T04:49:03.213803",
     "exception": false,
     "start_time": "2021-11-05T04:49:03.151615",
     "status": "completed"
    },
    "tags": []
   },
   "outputs": [
    {
     "name": "stdout",
     "output_type": "stream",
     "text": [
      "<class 'pandas.core.frame.DataFrame'>\n",
      "RangeIndex: 5171 entries, 0 to 5170\n",
      "Data columns (total 4 columns):\n",
      " #   Column      Non-Null Count  Dtype \n",
      "---  ------      --------------  ----- \n",
      " 0   Unnamed: 0  5171 non-null   int64 \n",
      " 1   label       5171 non-null   object\n",
      " 2   text        5171 non-null   object\n",
      " 3   label_num   5171 non-null   int64 \n",
      "dtypes: int64(2), object(2)\n",
      "memory usage: 161.7+ KB\n"
     ]
    }
   ],
   "source": [
    "df.info()"
   ]
  },
  {
   "cell_type": "markdown",
   "id": "393dcc36",
   "metadata": {
    "papermill": {
     "duration": 0.084938,
     "end_time": "2021-11-05T04:49:03.329552",
     "exception": false,
     "start_time": "2021-11-05T04:49:03.244614",
     "status": "completed"
    },
    "tags": []
   },
   "source": [
    "### Checking Whether the Data contains any Null Values"
   ]
  },
  {
   "cell_type": "code",
   "execution_count": 4,
   "id": "db0b6b17",
   "metadata": {
    "execution": {
     "iopub.execute_input": "2021-11-05T04:49:03.391381Z",
     "iopub.status.busy": "2021-11-05T04:49:03.390408Z",
     "iopub.status.idle": "2021-11-05T04:49:03.398845Z",
     "shell.execute_reply": "2021-11-05T04:49:03.399378Z",
     "shell.execute_reply.started": "2021-11-05T04:43:16.471164Z"
    },
    "papermill": {
     "duration": 0.040825,
     "end_time": "2021-11-05T04:49:03.399547",
     "exception": false,
     "start_time": "2021-11-05T04:49:03.358722",
     "status": "completed"
    },
    "tags": []
   },
   "outputs": [
    {
     "data": {
      "text/plain": [
       "Unnamed: 0    0\n",
       "label         0\n",
       "text          0\n",
       "label_num     0\n",
       "dtype: int64"
      ]
     },
     "execution_count": 4,
     "metadata": {},
     "output_type": "execute_result"
    }
   ],
   "source": [
    "df.isna().sum()"
   ]
  },
  {
   "cell_type": "markdown",
   "id": "b4fc4288",
   "metadata": {
    "papermill": {
     "duration": 0.028649,
     "end_time": "2021-11-05T04:49:03.458125",
     "exception": false,
     "start_time": "2021-11-05T04:49:03.429476",
     "status": "completed"
    },
    "tags": []
   },
   "source": [
    "### Composition of Spam and Ham mails in the Data using simple CountPlot of Seaborn"
   ]
  },
  {
   "cell_type": "code",
   "execution_count": 5,
   "id": "ce957e91",
   "metadata": {
    "execution": {
     "iopub.execute_input": "2021-11-05T04:49:03.519385Z",
     "iopub.status.busy": "2021-11-05T04:49:03.518457Z",
     "iopub.status.idle": "2021-11-05T04:49:04.558749Z",
     "shell.execute_reply": "2021-11-05T04:49:04.558198Z",
     "shell.execute_reply.started": "2021-11-05T04:43:16.482873Z"
    },
    "papermill": {
     "duration": 1.071909,
     "end_time": "2021-11-05T04:49:04.558886",
     "exception": false,
     "start_time": "2021-11-05T04:49:03.486977",
     "status": "completed"
    },
    "tags": []
   },
   "outputs": [
    {
     "data": {
      "text/plain": [
       "<AxesSubplot:xlabel='label', ylabel='count'>"
      ]
     },
     "execution_count": 5,
     "metadata": {},
     "output_type": "execute_result"
    },
    {
     "data": {
      "image/png": "[encoded data removed]",
      "text/plain": [
       "<Figure size 432x288 with 1 Axes>"
      ]
     },
     "metadata": {
      "needs_background": "light"
     },
     "output_type": "display_data"
    }
   ],
   "source": [
    "import seaborn as sns\n",
    "sns.countplot(x=\"label\",data=df)"
   ]
  },
  {
   "cell_type": "markdown",
   "id": "de5bf696",
   "metadata": {
    "papermill": {
     "duration": 0.02929,
     "end_time": "2021-11-05T04:49:04.618229",
     "exception": false,
     "start_time": "2021-11-05T04:49:04.588939",
     "status": "completed"
    },
    "tags": []
   },
   "source": [
    "## <center> Data Cleaning </center>"
   ]
  },
  {
   "cell_type": "markdown",
   "id": "6196abfd",
   "metadata": {
    "papermill": {
     "duration": 0.029962,
     "end_time": "2021-11-05T04:49:04.677789",
     "exception": false,
     "start_time": "2021-11-05T04:49:04.647827",
     "status": "completed"
    },
    "tags": []
   },
   "source": [
    "<center>\n",
    "<img src=\"https://exceldashboardschool.com/wp-content/uploads/2020/01/how-to-clean-data-in-excel-the-ultimate-guide.png\">\n",
    "</center>"
   ]
  },
  {
   "cell_type": "code",
   "execution_count": 6,
   "id": "e1b945e7",
   "metadata": {
    "execution": {
     "iopub.execute_input": "2021-11-05T04:49:04.762670Z",
     "iopub.status.busy": "2021-11-05T04:49:04.761898Z",
     "iopub.status.idle": "2021-11-05T04:49:04.765609Z",
     "shell.execute_reply": "2021-11-05T04:49:04.765036Z",
     "shell.execute_reply.started": "2021-11-05T04:43:17.724639Z"
    },
    "papermill": {
     "duration": 0.051325,
     "end_time": "2021-11-05T04:49:04.765747",
     "exception": false,
     "start_time": "2021-11-05T04:49:04.714422",
     "status": "completed"
    },
    "tags": []
   },
   "outputs": [
    {
     "name": "stdout",
     "output_type": "stream",
     "text": [
      "Subject: enron methanol ; meter # : 988291\r\n",
      "this is a follow up to the note i gave you on monday , 4 / 3 / 00 { preliminary\r\n",
      "flow data provided by daren } .\r\n",
      "please override pop ' s daily volume { presently zero } to reflect daily\r\n",
      "activity you can obtain from gas control .\r\n",
      "this change is needed asap for economics purposes .\n"
     ]
    }
   ],
   "source": [
    "print(df['text'][0])"
   ]
  },
  {
   "cell_type": "code",
   "execution_count": 7,
   "id": "b9db1bbb",
   "metadata": {
    "execution": {
     "iopub.execute_input": "2021-11-05T04:49:04.834509Z",
     "iopub.status.busy": "2021-11-05T04:49:04.833922Z",
     "iopub.status.idle": "2021-11-05T04:49:20.578113Z",
     "shell.execute_reply": "2021-11-05T04:49:20.577382Z",
     "shell.execute_reply.started": "2021-11-05T04:43:17.734386Z"
    },
    "papermill": {
     "duration": 15.777245,
     "end_time": "2021-11-05T04:49:20.578305",
     "exception": false,
     "start_time": "2021-11-05T04:49:04.801060",
     "status": "completed"
    },
    "tags": []
   },
   "outputs": [
    {
     "name": "stdout",
     "output_type": "stream",
     "text": [
      "Collecting contractions\r\n",
      "  Downloading contractions-0.0.55-py2.py3-none-any.whl (7.9 kB)\r\n",
      "Collecting textsearch>=0.0.21\r\n",
      "  Downloading textsearch-0.0.21-py2.py3-none-any.whl (7.5 kB)\r\n",
      "Collecting anyascii\r\n",
      "  Downloading anyascii-0.3.0-py3-none-any.whl (284 kB)\r\n",
      "\u001b[K     |████████████████████████████████| 284 kB 288 kB/s \r\n",
      "\u001b[?25hCollecting pyahocorasick\r\n",
      "  Downloading pyahocorasick-1.4.2.tar.gz (321 kB)\r\n",
      "\u001b[K     |████████████████████████████████| 321 kB 3.6 MB/s \r\n",
      "\u001b[?25hBuilding wheels for collected packages: pyahocorasick\r\n",
      "  Building wheel for pyahocorasick (setup.py) ... \u001b[?25l-\b \b\\\b \b|\b \b/\b \bdone\r\n",
      "\u001b[?25h  Created wheel for pyahocorasick: filename=pyahocorasick-1.4.2-cp37-cp37m-linux_x86_64.whl size=102814 sha256=0e749893aaa09c024677cddb14025a94ea519b2cde5857b2b07ae62dd01e5a2f\r\n",
      "  Stored in directory: /root/.cache/pip/wheels/25/19/a6/8f363d9939162782bb8439d886469756271abc01f76fbd790f\r\n",
      "Successfully built pyahocorasick\r\n",
      "Installing collected packages: pyahocorasick, anyascii, textsearch, contractions\r\n",
      "Successfully installed anyascii-0.3.0 contractions-0.0.55 pyahocorasick-1.4.2 textsearch-0.0.21\r\n",
      "\u001b[33mWARNING: Running pip as the 'root' user can result in broken permissions and conflicting behaviour with the system package manager. It is recommended to use a virtual environment instead: https://pip.pypa.io/warnings/venv\u001b[0m\r\n"
     ]
    }
   ],
   "source": [
    "!pip install contractions"
   ]
  },
  {
   "cell_type": "code",
   "execution_count": 8,
   "id": "17bb2afd",
   "metadata": {
    "execution": {
     "iopub.execute_input": "2021-11-05T04:49:20.659112Z",
     "iopub.status.busy": "2021-11-05T04:49:20.658189Z",
     "iopub.status.idle": "2021-11-05T04:49:21.751596Z",
     "shell.execute_reply": "2021-11-05T04:49:21.752063Z",
     "shell.execute_reply.started": "2021-11-05T04:43:33.023180Z"
    },
    "papermill": {
     "duration": 1.136774,
     "end_time": "2021-11-05T04:49:21.752253",
     "exception": false,
     "start_time": "2021-11-05T04:49:20.615479",
     "status": "completed"
    },
    "tags": []
   },
   "outputs": [
    {
     "name": "stdout",
     "output_type": "stream",
     "text": [
      "[nltk_data] Downloading package stopwords to /usr/share/nltk_data...\n",
      "[nltk_data]   Package stopwords is already up-to-date!\n"
     ]
    }
   ],
   "source": [
    "import contractions\n",
    "#contractions is the package in python used to expand the contractions in english language to their original form. Example: I'll to \"I will\"\n",
    "from tqdm import tqdm\n",
    "#tqdm package is used to track the progress of work. It displays the percentage of loop done.\n",
    "import nltk\n",
    "#nltk is a suite of libraries that are mainly used for dealing with problems related to Natural language processing.\n",
    "import re\n",
    "nltk.download('stopwords')\n",
    "from nltk.corpus import stopwords\n",
    "#donwloadin the stopwords of english language\n",
    "stopwords=stopwords.words('english')\n",
    "#Removing stopwords 'no','nor' and 'not'\n",
    "stopwords.remove('no')\n",
    "stopwords.remove('nor')\n",
    "stopwords.remove('not')"
   ]
  },
  {
   "cell_type": "code",
   "execution_count": 9,
   "id": "2c7b50b8",
   "metadata": {
    "execution": {
     "iopub.execute_input": "2021-11-05T04:49:21.833050Z",
     "iopub.status.busy": "2021-11-05T04:49:21.832365Z",
     "iopub.status.idle": "2021-11-05T04:49:23.956877Z",
     "shell.execute_reply": "2021-11-05T04:49:23.957402Z",
     "shell.execute_reply.started": "2021-11-05T04:43:33.969813Z"
    },
    "papermill": {
     "duration": 2.168262,
     "end_time": "2021-11-05T04:49:23.957575",
     "exception": false,
     "start_time": "2021-11-05T04:49:21.789313",
     "status": "completed"
    },
    "tags": []
   },
   "outputs": [
    {
     "name": "stderr",
     "output_type": "stream",
     "text": [
      "100%|██████████| 5171/5171 [00:02<00:00, 2444.09it/s]\n"
     ]
    }
   ],
   "source": [
    "processed_mails=[]\n",
    "for i in tqdm(df['text']):\n",
    "    #Regular expression that removes all the html tags pressent in the reviews\n",
    "    i=re.sub('(<[\\w\\s]*/?>)',\"\",i)\n",
    "    #Expanding all the contractions present in the review to is respective actual form\n",
    "    i=contractions.fix(i)\n",
    "    #Removing all the special charactesrs from the review text\n",
    "    i=re.sub('[^a-zA-Z0-9\\s]+',\"\",i)\n",
    "    #Removing all the digits present in the review text\n",
    "    i=re.sub('\\d+',\"\",i)\n",
    "    #Making all the review text to be of lower case as well as removing the stopwords and words of length less than 3\n",
    "    processed_mails.append(\" \".join([j.lower() for j in i.split() if j not in stopwords and len(j)>=3]))"
   ]
  },
  {
   "cell_type": "markdown",
   "id": "c51107d8",
   "metadata": {
    "papermill": {
     "duration": 0.041439,
     "end_time": "2021-11-05T04:49:24.042703",
     "exception": false,
     "start_time": "2021-11-05T04:49:24.001264",
     "status": "completed"
    },
    "tags": []
   },
   "source": [
    "### Creating a Dataframe using all the cleaned Mails"
   ]
  },
  {
   "cell_type": "code",
   "execution_count": 10,
   "id": "02877811",
   "metadata": {
    "execution": {
     "iopub.execute_input": "2021-11-05T04:49:24.136231Z",
     "iopub.status.busy": "2021-11-05T04:49:24.132787Z",
     "iopub.status.idle": "2021-11-05T04:49:24.146901Z",
     "shell.execute_reply": "2021-11-05T04:49:24.146339Z",
     "shell.execute_reply.started": "2021-11-05T04:43:36.558645Z"
    },
    "papermill": {
     "duration": 0.061758,
     "end_time": "2021-11-05T04:49:24.147078",
     "exception": false,
     "start_time": "2021-11-05T04:49:24.085320",
     "status": "completed"
    },
    "tags": []
   },
   "outputs": [
    {
     "data": {
      "text/html": [
       "<div>\n",
       "<style scoped>\n",
       "    .dataframe tbody tr th:only-of-type {\n",
       "        vertical-align: middle;\n",
       "    }\n",
       "\n",
       "    .dataframe tbody tr th {\n",
       "        vertical-align: top;\n",
       "    }\n",
       "\n",
       "    .dataframe thead th {\n",
       "        text-align: right;\n",
       "    }\n",
       "</style>\n",
       "<table border=\"1\" class=\"dataframe\">\n",
       "  <thead>\n",
       "    <tr style=\"text-align: right;\">\n",
       "      <th></th>\n",
       "      <th>text</th>\n",
       "      <th>Spam/Ham</th>\n",
       "    </tr>\n",
       "  </thead>\n",
       "  <tbody>\n",
       "    <tr>\n",
       "      <th>0</th>\n",
       "      <td>subject enron methanol meter follow note gave ...</td>\n",
       "      <td>0</td>\n",
       "    </tr>\n",
       "    <tr>\n",
       "      <th>1</th>\n",
       "      <td>subject hpl nom january see attached file hpln...</td>\n",
       "      <td>0</td>\n",
       "    </tr>\n",
       "    <tr>\n",
       "      <th>2</th>\n",
       "      <td>subject neon retreat around wonderful time yea...</td>\n",
       "      <td>0</td>\n",
       "    </tr>\n",
       "    <tr>\n",
       "      <th>3</th>\n",
       "      <td>subject photoshop windows office cheap main tr...</td>\n",
       "      <td>1</td>\n",
       "    </tr>\n",
       "    <tr>\n",
       "      <th>4</th>\n",
       "      <td>subject indian springs deal book teco pvr reve...</td>\n",
       "      <td>0</td>\n",
       "    </tr>\n",
       "  </tbody>\n",
       "</table>\n",
       "</div>"
      ],
      "text/plain": [
       "                                                text  Spam/Ham\n",
       "0  subject enron methanol meter follow note gave ...         0\n",
       "1  subject hpl nom january see attached file hpln...         0\n",
       "2  subject neon retreat around wonderful time yea...         0\n",
       "3  subject photoshop windows office cheap main tr...         1\n",
       "4  subject indian springs deal book teco pvr reve...         0"
      ]
     },
     "execution_count": 10,
     "metadata": {},
     "output_type": "execute_result"
    }
   ],
   "source": [
    "#Creating a new datafram using the Processed Reviews\n",
    "processed_df=pd.DataFrame({'text':processed_mails,'Spam/Ham':list(df['label_num'])})\n",
    "processed_df.head()"
   ]
  },
  {
   "cell_type": "markdown",
   "id": "4cc5bd47",
   "metadata": {
    "papermill": {
     "duration": 0.041643,
     "end_time": "2021-11-05T04:49:24.232873",
     "exception": false,
     "start_time": "2021-11-05T04:49:24.191230",
     "status": "completed"
    },
    "tags": []
   },
   "source": [
    "## <center> Data Preparation </center>"
   ]
  },
  {
   "cell_type": "code",
   "execution_count": 11,
   "id": "5ecb2d8a",
   "metadata": {
    "execution": {
     "iopub.execute_input": "2021-11-05T04:49:24.323185Z",
     "iopub.status.busy": "2021-11-05T04:49:24.322572Z",
     "iopub.status.idle": "2021-11-05T04:49:24.333681Z",
     "shell.execute_reply": "2021-11-05T04:49:24.332988Z",
     "shell.execute_reply.started": "2021-11-05T04:43:36.577218Z"
    },
    "papermill": {
     "duration": 0.058628,
     "end_time": "2021-11-05T04:49:24.333832",
     "exception": false,
     "start_time": "2021-11-05T04:49:24.275204",
     "status": "completed"
    },
    "tags": []
   },
   "outputs": [],
   "source": [
    "#Splitting the data into dependent and independent variables i.e, features and the target columns\n",
    "X=processed_df['text']\n",
    "Y=processed_df['Spam/Ham']\n",
    "#Splitting the data such that 33% will be used for testing and the remaining 67% will be used for training. \n",
    "from sklearn.model_selection import train_test_split\n",
    "x_train,x_test,y_train,y_test=train_test_split(X,Y,stratify=Y,test_size=0.33)\n",
    "#when stratify is provided the splitting of data into train and test datasets agree with the composition of actual possitive and negative reviews present in the dataset"
   ]
  },
  {
   "cell_type": "markdown",
   "id": "c782efba",
   "metadata": {
    "papermill": {
     "duration": 0.046599,
     "end_time": "2021-11-05T04:49:24.426832",
     "exception": false,
     "start_time": "2021-11-05T04:49:24.380233",
     "status": "completed"
    },
    "tags": []
   },
   "source": [
    "#### Word2Vec is a neural network model, that provides a numerical vector representation for a given word. This numerical vector is often called as \"Word Embedding\". Despite other methods of Bag of Words and TF-IDF, Word2Vec takes the context of the word into consideration while converting a word to a numerical vector. "
   ]
  },
  {
   "cell_type": "code",
   "execution_count": 12,
   "id": "a1998d68",
   "metadata": {
    "execution": {
     "iopub.execute_input": "2021-11-05T04:49:24.523016Z",
     "iopub.status.busy": "2021-11-05T04:49:24.522191Z",
     "iopub.status.idle": "2021-11-05T04:49:24.704613Z",
     "shell.execute_reply": "2021-11-05T04:49:24.703991Z",
     "shell.execute_reply.started": "2021-11-05T04:43:36.599962Z"
    },
    "papermill": {
     "duration": 0.232228,
     "end_time": "2021-11-05T04:49:24.704753",
     "exception": false,
     "start_time": "2021-11-05T04:49:24.472525",
     "status": "completed"
    },
    "tags": []
   },
   "outputs": [],
   "source": [
    "from gensim.models import Word2Vec"
   ]
  },
  {
   "cell_type": "markdown",
   "id": "93134120",
   "metadata": {
    "papermill": {
     "duration": 0.046789,
     "end_time": "2021-11-05T04:49:24.798167",
     "exception": false,
     "start_time": "2021-11-05T04:49:24.751378",
     "status": "completed"
    },
    "tags": []
   },
   "source": [
    "<center>\n",
    "    <img src=\"https://devopedia.org/images/article/221/4080.1570464995.png\"/>\n",
    "</center>"
   ]
  },
  {
   "cell_type": "markdown",
   "id": "17780307",
   "metadata": {
    "papermill": {
     "duration": 0.047253,
     "end_time": "2021-11-05T04:49:24.892649",
     "exception": false,
     "start_time": "2021-11-05T04:49:24.845396",
     "status": "completed"
    },
    "tags": []
   },
   "source": [
    "## Creating the data for training the Word2Vec model"
   ]
  },
  {
   "cell_type": "markdown",
   "id": "edaee38b",
   "metadata": {
    "papermill": {
     "duration": 0.04261,
     "end_time": "2021-11-05T04:49:24.982072",
     "exception": false,
     "start_time": "2021-11-05T04:49:24.939462",
     "status": "completed"
    },
    "tags": []
   },
   "source": [
    "Word2Vec model takes a list of lists as input for training. In our case, every mail should be divided into a list of words and all such lists must be appended to an empty list so that the data is ready for training."
   ]
  },
  {
   "cell_type": "code",
   "execution_count": 13,
   "id": "b12ae536",
   "metadata": {
    "execution": {
     "iopub.execute_input": "2021-11-05T04:49:25.070237Z",
     "iopub.status.busy": "2021-11-05T04:49:25.069299Z",
     "iopub.status.idle": "2021-11-05T04:49:25.113609Z",
     "shell.execute_reply": "2021-11-05T04:49:25.113037Z",
     "shell.execute_reply.started": "2021-11-05T04:43:36.890363Z"
    },
    "papermill": {
     "duration": 0.089785,
     "end_time": "2021-11-05T04:49:25.113774",
     "exception": false,
     "start_time": "2021-11-05T04:49:25.023989",
     "status": "completed"
    },
    "tags": []
   },
   "outputs": [
    {
     "name": "stderr",
     "output_type": "stream",
     "text": [
      "100%|██████████| 3464/3464 [00:00<00:00, 94418.79it/s]\n"
     ]
    }
   ],
   "source": [
    "words_in_sentences=[]\n",
    "for i in tqdm(x_train):\n",
    "    words_in_sentences.append(i.split())"
   ]
  },
  {
   "cell_type": "markdown",
   "id": "bcaf4b93",
   "metadata": {
    "papermill": {
     "duration": 0.043757,
     "end_time": "2021-11-05T04:49:25.201268",
     "exception": false,
     "start_time": "2021-11-05T04:49:25.157511",
     "status": "completed"
    },
    "tags": []
   },
   "source": [
    "### Training a Word2Vec Model with our Custom data"
   ]
  },
  {
   "cell_type": "code",
   "execution_count": 14,
   "id": "cb53e6d0",
   "metadata": {
    "execution": {
     "iopub.execute_input": "2021-11-05T04:49:25.289909Z",
     "iopub.status.busy": "2021-11-05T04:49:25.289336Z",
     "iopub.status.idle": "2021-11-05T04:49:25.542358Z",
     "shell.execute_reply": "2021-11-05T04:49:25.543149Z",
     "shell.execute_reply.started": "2021-11-05T04:43:36.944376Z"
    },
    "papermill": {
     "duration": 0.299264,
     "end_time": "2021-11-05T04:49:25.543366",
     "exception": false,
     "start_time": "2021-11-05T04:49:25.244102",
     "status": "completed"
    },
    "tags": []
   },
   "outputs": [],
   "source": [
    "model = Word2Vec(sentences=words_in_sentences, vector_size=200,workers=-1)"
   ]
  },
  {
   "cell_type": "markdown",
   "id": "6b57caac",
   "metadata": {
    "papermill": {
     "duration": 0.042478,
     "end_time": "2021-11-05T04:49:25.632394",
     "exception": false,
     "start_time": "2021-11-05T04:49:25.589916",
     "status": "completed"
    },
    "tags": []
   },
   "source": [
    "## Printing all similar words in the vocabulary for a given random word present in our vocabulary"
   ]
  },
  {
   "cell_type": "code",
   "execution_count": 15,
   "id": "d227f4a1",
   "metadata": {
    "execution": {
     "iopub.execute_input": "2021-11-05T04:49:25.722322Z",
     "iopub.status.busy": "2021-11-05T04:49:25.721717Z",
     "iopub.status.idle": "2021-11-05T04:49:25.734315Z",
     "shell.execute_reply": "2021-11-05T04:49:25.735261Z",
     "shell.execute_reply.started": "2021-11-05T04:43:37.393539Z"
    },
    "papermill": {
     "duration": 0.059874,
     "end_time": "2021-11-05T04:49:25.735531",
     "exception": false,
     "start_time": "2021-11-05T04:49:25.675657",
     "status": "completed"
    },
    "tags": []
   },
   "outputs": [
    {
     "data": {
      "text/plain": [
       "[('alcohol', 0.22900035977363586),\n",
       " ('income', 0.22816285490989685),\n",
       " ('percentage', 0.22543984651565552),\n",
       " ('minhplno', 0.22505630552768707),\n",
       " ('superviagra', 0.22137801349163055),\n",
       " ('sildenafil', 0.22072188556194305),\n",
       " ('tion', 0.22063365578651428),\n",
       " ('page', 0.22007966041564941),\n",
       " ('resuits', 0.21976976096630096),\n",
       " ('trading', 0.2166709154844284)]"
      ]
     },
     "execution_count": 15,
     "metadata": {},
     "output_type": "execute_result"
    }
   ],
   "source": [
    "model.wv.most_similar('lottery', topn=10)"
   ]
  },
  {
   "cell_type": "markdown",
   "id": "66874f3a",
   "metadata": {
    "papermill": {
     "duration": 0.056183,
     "end_time": "2021-11-05T04:49:25.879589",
     "exception": false,
     "start_time": "2021-11-05T04:49:25.823406",
     "status": "completed"
    },
    "tags": []
   },
   "source": [
    "## Word Embedding for a given word"
   ]
  },
  {
   "cell_type": "code",
   "execution_count": 16,
   "id": "47e2c916",
   "metadata": {
    "execution": {
     "iopub.execute_input": "2021-11-05T04:49:25.974295Z",
     "iopub.status.busy": "2021-11-05T04:49:25.973667Z",
     "iopub.status.idle": "2021-11-05T04:49:25.976076Z",
     "shell.execute_reply": "2021-11-05T04:49:25.976593Z",
     "shell.execute_reply.started": "2021-11-05T04:43:37.434885Z"
    },
    "papermill": {
     "duration": 0.053817,
     "end_time": "2021-11-05T04:49:25.976748",
     "exception": false,
     "start_time": "2021-11-05T04:49:25.922931",
     "status": "completed"
    },
    "tags": []
   },
   "outputs": [
    {
     "data": {
      "text/plain": [
       "array([-1.08816626e-03, -3.42516066e-03,  3.85873672e-03,  1.15641356e-04,\n",
       "       -2.44918233e-03, -4.78837732e-03,  4.19341074e-03, -4.06911597e-03,\n",
       "        1.95204979e-03, -2.83501158e-03, -1.07368466e-03,  3.44471098e-03,\n",
       "        8.16944812e-04,  4.26235097e-03,  2.30885751e-04,  1.04559422e-03,\n",
       "       -1.37395260e-03, -2.48146057e-03, -1.00439785e-04,  1.19922520e-03,\n",
       "       -4.09225235e-03,  4.79355920e-03, -3.80116585e-03, -7.80194998e-04,\n",
       "        3.18465475e-03, -4.41514142e-03,  1.98469753e-03, -3.11680674e-03,\n",
       "       -4.41523688e-03,  4.52372059e-03,  3.63322138e-03, -9.66544147e-04,\n",
       "       -1.77200790e-03, -1.71767117e-03, -4.59202891e-03, -2.92758830e-03,\n",
       "       -2.20351573e-03, -2.18172441e-03, -3.74762062e-03, -1.81430578e-03,\n",
       "       -3.77277494e-03,  9.39861522e-04,  2.07851292e-03, -8.49149248e-04,\n",
       "       -4.13390389e-03,  3.59839550e-03, -5.37232147e-04, -9.34394600e-04,\n",
       "        4.62583918e-03,  3.80288367e-03,  2.19035870e-03, -1.84114813e-03,\n",
       "        4.88167536e-03, -1.41416315e-03,  2.65928986e-03,  3.48628871e-03,\n",
       "       -9.71226720e-04,  4.24962398e-03,  1.97566161e-03,  5.69818018e-04,\n",
       "       -7.61345611e-04,  2.72891275e-03, -9.96609917e-04, -4.71417652e-03,\n",
       "       -3.18223587e-03, -1.90509556e-04,  7.63121818e-04,  6.42123225e-04,\n",
       "        2.62260786e-03,  8.68337171e-04,  3.49396700e-03, -5.09093981e-04,\n",
       "        4.51292284e-03, -2.48336070e-03, -1.69478776e-03, -2.03401921e-03,\n",
       "       -1.13097671e-03, -2.31648912e-03, -1.05514284e-03,  6.60159567e-04,\n",
       "        6.87192660e-04, -4.69310861e-03,  2.30803480e-03,  1.94873812e-03,\n",
       "       -1.93533418e-03,  3.69357830e-03,  2.46073725e-03,  4.30343486e-03,\n",
       "       -4.31552762e-03, -4.01073322e-03, -4.25977958e-03, -4.40474041e-03,\n",
       "       -2.34564906e-03, -1.81819079e-03,  3.56658711e-04, -1.00286247e-03,\n",
       "        2.57299189e-03,  2.10605492e-03, -4.51018335e-03, -1.56765338e-03,\n",
       "       -3.68790748e-03,  1.70251844e-03, -2.17740308e-03, -3.30216996e-03,\n",
       "       -2.51726038e-03,  3.34151625e-03, -4.36850311e-03,  1.52724981e-03,\n",
       "        4.29563271e-03, -1.78568484e-03, -5.21250942e-04, -5.72924619e-04,\n",
       "       -2.54330155e-03,  3.78756295e-03, -1.96841953e-04, -4.38427924e-05,\n",
       "       -3.46481195e-03,  1.12239120e-03, -4.10939800e-03,  3.63558298e-03,\n",
       "       -2.64916546e-03,  4.54234611e-03,  1.97557209e-04,  7.80026894e-04,\n",
       "        3.28843831e-03, -4.49534651e-04, -4.66785766e-03, -4.65847272e-03,\n",
       "        3.67009034e-03, -1.27309200e-03, -4.85296594e-03,  4.48388467e-03,\n",
       "       -1.64943340e-03,  2.47448217e-03,  7.39870069e-04,  4.53948742e-03,\n",
       "       -4.48892824e-03,  4.97238152e-03, -1.80775160e-03, -4.94054658e-03,\n",
       "        3.21944128e-03, -3.15167545e-03, -1.49839045e-03, -7.25293139e-05,\n",
       "        3.24749597e-03,  1.43507961e-03,  3.34540615e-03, -3.00216675e-03,\n",
       "       -2.81119579e-03,  2.51341471e-03,  2.24387762e-03,  8.34809558e-04,\n",
       "       -2.04602233e-03, -9.51346185e-04,  4.10832418e-03, -1.82762509e-03,\n",
       "        2.23261584e-03, -2.06307173e-04,  4.21725260e-03,  6.24037988e-04,\n",
       "       -2.46073119e-03, -4.54146368e-03,  8.08732526e-04, -4.13926505e-03,\n",
       "       -1.02543947e-03,  3.40186351e-04, -3.12796468e-03, -4.33169585e-03,\n",
       "        3.36374878e-03, -4.01543267e-03,  3.30107799e-03,  4.71320888e-03,\n",
       "       -1.26052019e-03, -1.46067620e-03, -3.10041080e-03,  9.51600086e-04,\n",
       "       -9.30281880e-04, -3.54485749e-03,  1.05264189e-03, -1.66559214e-04,\n",
       "        1.97464461e-03, -1.64446828e-04, -4.66320384e-03, -1.31819490e-03,\n",
       "        2.94124964e-03, -2.21214304e-03,  1.59636617e-03,  4.29450272e-04,\n",
       "       -4.02951380e-03, -2.91060214e-03, -2.83220178e-03, -3.13170790e-03,\n",
       "       -2.03392981e-03,  7.51197367e-05,  2.29435088e-03, -3.76190664e-03,\n",
       "        2.05975422e-03, -4.10969136e-03,  2.32321024e-03, -4.83417744e-03],\n",
       "      dtype=float32)"
      ]
     },
     "execution_count": 16,
     "metadata": {},
     "output_type": "execute_result"
    }
   ],
   "source": [
    "model.wv.get_vector('job')"
   ]
  },
  {
   "cell_type": "markdown",
   "id": "ce63f54f",
   "metadata": {
    "papermill": {
     "duration": 0.04317,
     "end_time": "2021-11-05T04:49:26.063555",
     "exception": false,
     "start_time": "2021-11-05T04:49:26.020385",
     "status": "completed"
    },
    "tags": []
   },
   "source": [
    "## Total number of words in the Vocabulary on which the Word2Vec model is trained."
   ]
  },
  {
   "cell_type": "code",
   "execution_count": 17,
   "id": "8a379913",
   "metadata": {
    "execution": {
     "iopub.execute_input": "2021-11-05T04:49:26.154885Z",
     "iopub.status.busy": "2021-11-05T04:49:26.154295Z",
     "iopub.status.idle": "2021-11-05T04:49:26.159168Z",
     "shell.execute_reply": "2021-11-05T04:49:26.159619Z",
     "shell.execute_reply.started": "2021-11-05T04:43:37.479374Z"
    },
    "papermill": {
     "duration": 0.052408,
     "end_time": "2021-11-05T04:49:26.159790",
     "exception": false,
     "start_time": "2021-11-05T04:49:26.107382",
     "status": "completed"
    },
    "tags": []
   },
   "outputs": [
    {
     "name": "stdout",
     "output_type": "stream",
     "text": [
      "6649\n"
     ]
    }
   ],
   "source": [
    "vocab=list(model.wv.key_to_index.keys())\n",
    "print(len(vocab))"
   ]
  },
  {
   "cell_type": "markdown",
   "id": "57d4cd9b",
   "metadata": {
    "papermill": {
     "duration": 0.043744,
     "end_time": "2021-11-05T04:49:26.247336",
     "exception": false,
     "start_time": "2021-11-05T04:49:26.203592",
     "status": "completed"
    },
    "tags": []
   },
   "source": [
    "## Average Word2Vec for converting a given Sentence into numerical vector. \n",
    "\n",
    "Note: Word2Vec is capable of providing an embedding for a given word but not for a sentence"
   ]
  },
  {
   "cell_type": "markdown",
   "id": "31fff63c",
   "metadata": {
    "papermill": {
     "duration": 0.043487,
     "end_time": "2021-11-05T04:49:26.334425",
     "exception": false,
     "start_time": "2021-11-05T04:49:26.290938",
     "status": "completed"
    },
    "tags": []
   },
   "source": [
    "<center>\n",
    "    <img src=\"https://i0.wp.com/yaronvazana.com/wp-content/uploads/2018/09/average-vectors.png?resize=698%2C354\">\n",
    "</center>"
   ]
  },
  {
   "cell_type": "markdown",
   "id": "b790784c",
   "metadata": {
    "papermill": {
     "duration": 0.043415,
     "end_time": "2021-11-05T04:49:26.421716",
     "exception": false,
     "start_time": "2021-11-05T04:49:26.378301",
     "status": "completed"
    },
    "tags": []
   },
   "source": [
    "### **Average Word2Vec is a technique in which the average of word embeddings of all the words given in a sentence is used as the numerical vector for a given sentence.**"
   ]
  },
  {
   "cell_type": "code",
   "execution_count": 18,
   "id": "a106e3d3",
   "metadata": {
    "execution": {
     "iopub.execute_input": "2021-11-05T04:49:26.513134Z",
     "iopub.status.busy": "2021-11-05T04:49:26.512244Z",
     "iopub.status.idle": "2021-11-05T04:49:26.517418Z",
     "shell.execute_reply": "2021-11-05T04:49:26.517820Z",
     "shell.execute_reply.started": "2021-11-05T04:43:37.508907Z"
    },
    "papermill": {
     "duration": 0.052715,
     "end_time": "2021-11-05T04:49:26.518003",
     "exception": false,
     "start_time": "2021-11-05T04:49:26.465288",
     "status": "completed"
    },
    "tags": []
   },
   "outputs": [],
   "source": [
    "def avg_w2vec(sentences):\n",
    "    transformed=[]\n",
    "    for sentence in tqdm(sentences):\n",
    "        count=0\n",
    "        vector=np.zeros(200)\n",
    "        for word in sentence.split():\n",
    "            if word in vocab:\n",
    "                vector+=model.wv.get_vector(word)\n",
    "                count+=1\n",
    "        if count!=0:\n",
    "            vector/=count\n",
    "            transformed.append(vector)\n",
    "        else:\n",
    "            print(sentence)\n",
    "    return np.array(transformed)"
   ]
  },
  {
   "cell_type": "code",
   "execution_count": 19,
   "id": "008c3d95",
   "metadata": {
    "execution": {
     "iopub.execute_input": "2021-11-05T04:49:26.609264Z",
     "iopub.status.busy": "2021-11-05T04:49:26.608366Z",
     "iopub.status.idle": "2021-11-05T04:49:42.136234Z",
     "shell.execute_reply": "2021-11-05T04:49:42.135589Z",
     "shell.execute_reply.started": "2021-11-05T04:43:37.537551Z"
    },
    "papermill": {
     "duration": 15.574453,
     "end_time": "2021-11-05T04:49:42.136388",
     "exception": false,
     "start_time": "2021-11-05T04:49:26.561935",
     "status": "completed"
    },
    "tags": []
   },
   "outputs": [
    {
     "name": "stderr",
     "output_type": "stream",
     "text": [
      "100%|██████████| 3464/3464 [00:10<00:00, 341.47it/s]\n",
      "100%|██████████| 1707/1707 [00:05<00:00, 318.37it/s]\n"
     ]
    }
   ],
   "source": [
    "x_train_transformed=avg_w2vec(x_train)\n",
    "x_test_transformed=avg_w2vec(x_test)"
   ]
  },
  {
   "cell_type": "markdown",
   "id": "65ef5828",
   "metadata": {
    "papermill": {
     "duration": 0.073537,
     "end_time": "2021-11-05T04:49:42.283898",
     "exception": false,
     "start_time": "2021-11-05T04:49:42.210361",
     "status": "completed"
    },
    "tags": []
   },
   "source": [
    "## Using K-Nearest Neighbors Algorithm to predict whether a given mail is Spam or not"
   ]
  },
  {
   "cell_type": "markdown",
   "id": "8f94ed71",
   "metadata": {
    "papermill": {
     "duration": 0.07344,
     "end_time": "2021-11-05T04:49:42.431115",
     "exception": false,
     "start_time": "2021-11-05T04:49:42.357675",
     "status": "completed"
    },
    "tags": []
   },
   "source": [
    "<center>\n",
    "    <img src=\"http://res.cloudinary.com/dyd911kmh/image/upload/f_auto,q_auto:best/v1531424125/Knn_k1_z96jba.png\"/>\n",
    "    </center>"
   ]
  },
  {
   "cell_type": "code",
   "execution_count": 20,
   "id": "680d2dcc",
   "metadata": {
    "execution": {
     "iopub.execute_input": "2021-11-05T04:49:42.586052Z",
     "iopub.status.busy": "2021-11-05T04:49:42.585425Z",
     "iopub.status.idle": "2021-11-05T04:49:55.592358Z",
     "shell.execute_reply": "2021-11-05T04:49:55.591550Z",
     "shell.execute_reply.started": "2021-11-05T04:43:55.541040Z"
    },
    "papermill": {
     "duration": 13.086374,
     "end_time": "2021-11-05T04:49:55.592564",
     "exception": false,
     "start_time": "2021-11-05T04:49:42.506190",
     "status": "completed"
    },
    "tags": []
   },
   "outputs": [
    {
     "name": "stdout",
     "output_type": "stream",
     "text": [
      "Fitting 5 folds for each of 6 candidates, totalling 30 fits\n"
     ]
    },
    {
     "name": "stderr",
     "output_type": "stream",
     "text": [
      "/opt/conda/lib/python3.7/site-packages/sklearn/model_selection/_search.py:282: UserWarning: The total space of parameters 6 is smaller than n_iter=10. Running 6 iterations. For exhaustive searches, use GridSearchCV.\n",
      "  % (grid_size, self.n_iter, grid_size), UserWarning)\n",
      "[Parallel(n_jobs=-1)]: Using backend LokyBackend with 4 concurrent workers.\n",
      "[Parallel(n_jobs=-1)]: Done  30 out of  30 | elapsed:   12.7s finished\n"
     ]
    },
    {
     "data": {
      "text/plain": [
       "RandomizedSearchCV(estimator=KNeighborsClassifier(), n_jobs=-1,\n",
       "                   param_distributions={'metric': ['manhattan'],\n",
       "                                        'n_neighbors': [10, 20, 30, 40, 50,\n",
       "                                                        60]},\n",
       "                   random_state=0, verbose=1)"
      ]
     },
     "execution_count": 20,
     "metadata": {},
     "output_type": "execute_result"
    }
   ],
   "source": [
    "from sklearn.model_selection import RandomizedSearchCV\n",
    "from sklearn.neighbors import KNeighborsClassifier\n",
    "grid_params = { 'n_neighbors' : [10,20,30,40,50,60],\n",
    "               'metric' : ['manhattan']}\n",
    "knn=KNeighborsClassifier()\n",
    "clf = RandomizedSearchCV(knn, grid_params, random_state=0,n_jobs=-1,verbose=1)\n",
    "clf.fit(x_train_transformed,y_train)"
   ]
  },
  {
   "cell_type": "code",
   "execution_count": 21,
   "id": "a64513fa",
   "metadata": {
    "execution": {
     "iopub.execute_input": "2021-11-05T04:49:55.749637Z",
     "iopub.status.busy": "2021-11-05T04:49:55.749010Z",
     "iopub.status.idle": "2021-11-05T04:49:55.751346Z",
     "shell.execute_reply": "2021-11-05T04:49:55.751779Z",
     "shell.execute_reply.started": "2021-11-05T04:44:08.914522Z"
    },
    "papermill": {
     "duration": 0.083079,
     "end_time": "2021-11-05T04:49:55.751964",
     "exception": false,
     "start_time": "2021-11-05T04:49:55.668885",
     "status": "completed"
    },
    "tags": []
   },
   "outputs": [
    {
     "data": {
      "text/plain": [
       "{'n_neighbors': 10, 'metric': 'manhattan'}"
      ]
     },
     "execution_count": 21,
     "metadata": {},
     "output_type": "execute_result"
    }
   ],
   "source": [
    "clf.best_params_"
   ]
  },
  {
   "cell_type": "code",
   "execution_count": 22,
   "id": "227d8f5e",
   "metadata": {
    "execution": {
     "iopub.execute_input": "2021-11-05T04:49:55.906913Z",
     "iopub.status.busy": "2021-11-05T04:49:55.906311Z",
     "iopub.status.idle": "2021-11-05T04:49:55.911439Z",
     "shell.execute_reply": "2021-11-05T04:49:55.910962Z",
     "shell.execute_reply.started": "2021-11-05T04:44:08.923040Z"
    },
    "papermill": {
     "duration": 0.084854,
     "end_time": "2021-11-05T04:49:55.911575",
     "exception": false,
     "start_time": "2021-11-05T04:49:55.826721",
     "status": "completed"
    },
    "tags": []
   },
   "outputs": [
    {
     "data": {
      "text/plain": [
       "0.7982066745072525"
      ]
     },
     "execution_count": 22,
     "metadata": {},
     "output_type": "execute_result"
    }
   ],
   "source": [
    "clf.best_score_"
   ]
  },
  {
   "cell_type": "code",
   "execution_count": 23,
   "id": "7965cacb",
   "metadata": {
    "execution": {
     "iopub.execute_input": "2021-11-05T04:49:56.072381Z",
     "iopub.status.busy": "2021-11-05T04:49:56.071748Z",
     "iopub.status.idle": "2021-11-05T04:49:56.075304Z",
     "shell.execute_reply": "2021-11-05T04:49:56.074839Z",
     "shell.execute_reply.started": "2021-11-05T04:44:08.934444Z"
    },
    "papermill": {
     "duration": 0.087931,
     "end_time": "2021-11-05T04:49:56.075438",
     "exception": false,
     "start_time": "2021-11-05T04:49:55.987507",
     "status": "completed"
    },
    "tags": []
   },
   "outputs": [
    {
     "data": {
      "text/plain": [
       "{'mean_fit_time': array([0.07366505, 0.07172437, 0.0677135 , 0.06882086, 0.0704308 ,\n",
       "        0.06964426]),\n",
       " 'std_fit_time': array([0.0036415 , 0.0049972 , 0.00091277, 0.00101656, 0.00287808,\n",
       "        0.00145807]),\n",
       " 'mean_score_time': array([1.22993546, 1.41144609, 1.24042358, 1.23959513, 1.2854876 ,\n",
       "        1.13555822]),\n",
       " 'std_score_time': array([0.08687633, 0.12765505, 0.00435392, 0.00441002, 0.02044739,\n",
       "        0.19104584]),\n",
       " 'param_n_neighbors': masked_array(data=[10, 20, 30, 40, 50, 60],\n",
       "              mask=[False, False, False, False, False, False],\n",
       "        fill_value='?',\n",
       "             dtype=object),\n",
       " 'param_metric': masked_array(data=['manhattan', 'manhattan', 'manhattan', 'manhattan',\n",
       "                    'manhattan', 'manhattan'],\n",
       "              mask=[False, False, False, False, False, False],\n",
       "        fill_value='?',\n",
       "             dtype=object),\n",
       " 'params': [{'n_neighbors': 10, 'metric': 'manhattan'},\n",
       "  {'n_neighbors': 20, 'metric': 'manhattan'},\n",
       "  {'n_neighbors': 30, 'metric': 'manhattan'},\n",
       "  {'n_neighbors': 40, 'metric': 'manhattan'},\n",
       "  {'n_neighbors': 50, 'metric': 'manhattan'},\n",
       "  {'n_neighbors': 60, 'metric': 'manhattan'}],\n",
       " 'split0_test_score': array([0.79365079, 0.76479076, 0.73881674, 0.73015873, 0.72871573,\n",
       "        0.72438672]),\n",
       " 'split1_test_score': array([0.8008658 , 0.76623377, 0.74170274, 0.74314574, 0.73304473,\n",
       "        0.73448773]),\n",
       " 'split2_test_score': array([0.7950938 , 0.77200577, 0.75468975, 0.74891775, 0.74314574,\n",
       "        0.74170274]),\n",
       " 'split3_test_score': array([0.81529582, 0.78066378, 0.75757576, 0.74891775, 0.74170274,\n",
       "        0.73448773]),\n",
       " 'split4_test_score': array([0.78612717, 0.73699422, 0.72398844, 0.72543353, 0.72109827,\n",
       "        0.72398844]),\n",
       " 'mean_test_score': array([0.79820667, 0.76413766, 0.74335469, 0.7393147 , 0.73354144,\n",
       "        0.73181067]),\n",
       " 'std_test_score': array([0.00975162, 0.01467383, 0.01207556, 0.00975328, 0.00821238,\n",
       "        0.00676001]),\n",
       " 'rank_test_score': array([1, 2, 3, 4, 5, 6], dtype=int32)}"
      ]
     },
     "execution_count": 23,
     "metadata": {},
     "output_type": "execute_result"
    }
   ],
   "source": [
    "clf.cv_results_"
   ]
  },
  {
   "cell_type": "markdown",
   "id": "2cfd0f16",
   "metadata": {
    "papermill": {
     "duration": 0.075479,
     "end_time": "2021-11-05T04:49:56.227733",
     "exception": false,
     "start_time": "2021-11-05T04:49:56.152254",
     "status": "completed"
    },
    "tags": []
   },
   "source": [
    "# <center><b> Model Evaluation </b></center>"
   ]
  },
  {
   "cell_type": "markdown",
   "id": "7b88ce95",
   "metadata": {
    "papermill": {
     "duration": 0.075978,
     "end_time": "2021-11-05T04:49:56.380082",
     "exception": false,
     "start_time": "2021-11-05T04:49:56.304104",
     "status": "completed"
    },
    "tags": []
   },
   "source": [
    "<center>\n",
    "    <img src=\"https://miro.medium.com/max/1400/1*f-k9vMJGKqctXjvO8dM-UQ.gif\"/>\n",
    "</center>"
   ]
  },
  {
   "cell_type": "markdown",
   "id": "7ab0c31b",
   "metadata": {
    "papermill": {
     "duration": 0.075549,
     "end_time": "2021-11-05T04:49:56.532570",
     "exception": false,
     "start_time": "2021-11-05T04:49:56.457021",
     "status": "completed"
    },
    "tags": []
   },
   "source": [
    "## Plotting the ROC curve for the prediction on both Training and Testing Data"
   ]
  },
  {
   "cell_type": "code",
   "execution_count": 24,
   "id": "d265d837",
   "metadata": {
    "execution": {
     "iopub.execute_input": "2021-11-05T04:49:56.689065Z",
     "iopub.status.busy": "2021-11-05T04:49:56.688436Z",
     "iopub.status.idle": "2021-11-05T04:50:03.828382Z",
     "shell.execute_reply": "2021-11-05T04:50:03.828849Z",
     "shell.execute_reply.started": "2021-11-05T04:44:39.555282Z"
    },
    "papermill": {
     "duration": 7.220825,
     "end_time": "2021-11-05T04:50:03.829046",
     "exception": false,
     "start_time": "2021-11-05T04:49:56.608221",
     "status": "completed"
    },
    "tags": []
   },
   "outputs": [],
   "source": [
    "from sklearn.metrics import roc_curve, auc,classification_report,confusion_matrix\n",
    "train_fpr,train_tpr,thresholds=roc_curve(y_train,clf.predict_proba(x_train_transformed)[:,1])\n",
    "test_fpr,test_tpr,thresholds=roc_curve(y_test,clf.predict_proba(x_test_transformed)[:,1])"
   ]
  },
  {
   "cell_type": "code",
   "execution_count": 25,
   "id": "5da4c566",
   "metadata": {
    "execution": {
     "iopub.execute_input": "2021-11-05T04:50:03.990044Z",
     "iopub.status.busy": "2021-11-05T04:50:03.989386Z",
     "iopub.status.idle": "2021-11-05T04:50:04.255838Z",
     "shell.execute_reply": "2021-11-05T04:50:04.255376Z",
     "shell.execute_reply.started": "2021-11-05T04:44:16.005661Z"
    },
    "papermill": {
     "duration": 0.350076,
     "end_time": "2021-11-05T04:50:04.255987",
     "exception": false,
     "start_time": "2021-11-05T04:50:03.905911",
     "status": "completed"
    },
    "tags": []
   },
   "outputs": [
    {
     "data": {
      "image/png": "[encoded data removed]",
      "text/plain": [
       "<Figure size 432x288 with 1 Axes>"
      ]
     },
     "metadata": {
      "needs_background": "light"
     },
     "output_type": "display_data"
    }
   ],
   "source": [
    "import matplotlib.pyplot as plt\n",
    "plt.plot(train_fpr,train_tpr,label=\"Training Accuracy=\"+str(round(auc(train_fpr, train_tpr),2)))\n",
    "plt.plot(test_fpr,test_tpr,label=\"Testing Accuracy =\"+str(round(auc(test_fpr, test_tpr),2)))\n",
    "plt.scatter(train_fpr,train_tpr,label=\"Training Accuracy=\"+str(round(auc(train_fpr, train_tpr),2)))\n",
    "plt.scatter(test_fpr,test_tpr,label=\"Testing Accuracy =\"+str(round(auc(test_fpr, test_tpr),2)))\n",
    "plt.legend()\n",
    "plt.xlabel(\"Thresholds\")\n",
    "plt.ylabel(\"ACCURACY\")\n",
    "plt.title(\"Training and Testing ROC Curves\")\n",
    "plt.show()"
   ]
  },
  {
   "cell_type": "markdown",
   "id": "3ead4267",
   "metadata": {
    "papermill": {
     "duration": 0.078931,
     "end_time": "2021-11-05T04:50:04.411731",
     "exception": false,
     "start_time": "2021-11-05T04:50:04.332800",
     "status": "completed"
    },
    "tags": []
   },
   "source": [
    "## Confusion Matrix and Classification Report for Prediction made on Training and Testing data"
   ]
  },
  {
   "cell_type": "code",
   "execution_count": 26,
   "id": "1e4109d5",
   "metadata": {
    "execution": {
     "iopub.execute_input": "2021-11-05T04:50:04.575374Z",
     "iopub.status.busy": "2021-11-05T04:50:04.574695Z",
     "iopub.status.idle": "2021-11-05T04:50:09.597259Z",
     "shell.execute_reply": "2021-11-05T04:50:09.597680Z",
     "shell.execute_reply.started": "2021-11-05T04:44:46.517917Z"
    },
    "papermill": {
     "duration": 5.104553,
     "end_time": "2021-11-05T04:50:09.597849",
     "exception": false,
     "start_time": "2021-11-05T04:50:04.493296",
     "status": "completed"
    },
    "tags": []
   },
   "outputs": [
    {
     "data": {
      "image/png": "[encoded data removed]",
      "text/plain": [
       "<Figure size 432x288 with 2 Axes>"
      ]
     },
     "metadata": {
      "needs_background": "light"
     },
     "output_type": "display_data"
    }
   ],
   "source": [
    "sns.heatmap(confusion_matrix(y_train,clf.predict(x_train_transformed)),annot=True)\n",
    "plt.show()"
   ]
  },
  {
   "cell_type": "code",
   "execution_count": 27,
   "id": "ea5f86aa",
   "metadata": {
    "execution": {
     "iopub.execute_input": "2021-11-05T04:50:09.756666Z",
     "iopub.status.busy": "2021-11-05T04:50:09.755716Z",
     "iopub.status.idle": "2021-11-05T04:50:14.605742Z",
     "shell.execute_reply": "2021-11-05T04:50:14.606303Z",
     "shell.execute_reply.started": "2021-11-05T04:44:55.995830Z"
    },
    "papermill": {
     "duration": 4.931518,
     "end_time": "2021-11-05T04:50:14.606492",
     "exception": false,
     "start_time": "2021-11-05T04:50:09.674974",
     "status": "completed"
    },
    "tags": []
   },
   "outputs": [
    {
     "name": "stdout",
     "output_type": "stream",
     "text": [
      "              precision    recall  f1-score   support\n",
      "\n",
      "           0       0.95      0.83      0.89      2460\n",
      "           1       0.69      0.88      0.77      1004\n",
      "\n",
      "    accuracy                           0.85      3464\n",
      "   macro avg       0.82      0.86      0.83      3464\n",
      "weighted avg       0.87      0.85      0.85      3464\n",
      "\n"
     ]
    }
   ],
   "source": [
    "print(classification_report(y_train,clf.predict(x_train_transformed)))"
   ]
  },
  {
   "cell_type": "code",
   "execution_count": 28,
   "id": "c04467f5",
   "metadata": {
    "execution": {
     "iopub.execute_input": "2021-11-05T04:50:14.768224Z",
     "iopub.status.busy": "2021-11-05T04:50:14.767580Z",
     "iopub.status.idle": "2021-11-05T04:50:17.369671Z",
     "shell.execute_reply": "2021-11-05T04:50:17.369155Z",
     "shell.execute_reply.started": "2021-11-05T04:45:03.513436Z"
    },
    "papermill": {
     "duration": 2.685206,
     "end_time": "2021-11-05T04:50:17.369814",
     "exception": false,
     "start_time": "2021-11-05T04:50:14.684608",
     "status": "completed"
    },
    "tags": []
   },
   "outputs": [
    {
     "data": {
      "image/png": "[encoded data removed]",
      "text/plain": [
       "<Figure size 432x288 with 2 Axes>"
      ]
     },
     "metadata": {
      "needs_background": "light"
     },
     "output_type": "display_data"
    }
   ],
   "source": [
    "sns.heatmap(confusion_matrix(y_test,clf.predict(x_test_transformed)),annot=True)\n",
    "plt.show()"
   ]
  },
  {
   "cell_type": "code",
   "execution_count": 29,
   "id": "24ab5683",
   "metadata": {
    "execution": {
     "iopub.execute_input": "2021-11-05T04:50:17.530793Z",
     "iopub.status.busy": "2021-11-05T04:50:17.530194Z",
     "iopub.status.idle": "2021-11-05T04:50:19.970913Z",
     "shell.execute_reply": "2021-11-05T04:50:19.971646Z",
     "shell.execute_reply.started": "2021-11-05T04:45:09.651514Z"
    },
    "papermill": {
     "duration": 2.52325,
     "end_time": "2021-11-05T04:50:19.971876",
     "exception": false,
     "start_time": "2021-11-05T04:50:17.448626",
     "status": "completed"
    },
    "tags": []
   },
   "outputs": [
    {
     "name": "stdout",
     "output_type": "stream",
     "text": [
      "              precision    recall  f1-score   support\n",
      "\n",
      "           0       0.93      0.79      0.86      1212\n",
      "           1       0.63      0.85      0.72       495\n",
      "\n",
      "    accuracy                           0.81      1707\n",
      "   macro avg       0.78      0.82      0.79      1707\n",
      "weighted avg       0.84      0.81      0.82      1707\n",
      "\n"
     ]
    }
   ],
   "source": [
    "print(classification_report(y_test,clf.predict(x_test_transformed)))"
   ]
  },
  {
   "cell_type": "markdown",
   "id": "3df434df",
   "metadata": {
    "papermill": {
     "duration": 0.079436,
     "end_time": "2021-11-05T04:50:20.131622",
     "exception": false,
     "start_time": "2021-11-05T04:50:20.052186",
     "status": "completed"
    },
    "tags": []
   },
   "source": [
    "# **Conclusion**\n",
    "### In case of Spam mail Detection, we will more focus of False Possitives. This is so because, In case of False-Possitive the model will predict the unspam mail as a spam which results in loss of some useful data. If the ham mail that was recognised as spam contain any important information, it will not be reached to the user.\n",
    "### The model that was obtained in this notebook has very less False possitive when compare to False Negatives."
   ]
  },
  {
   "cell_type": "markdown",
   "id": "4e5ecda7",
   "metadata": {
    "papermill": {
     "duration": 0.078365,
     "end_time": "2021-11-05T04:50:20.289264",
     "exception": false,
     "start_time": "2021-11-05T04:50:20.210899",
     "status": "completed"
    },
    "tags": []
   },
   "source": [
    "# <center style=\"color:red\"> <b> &#127881;&#127882;<u> Upvote the notebook if it is useful and Informative. </u>&#127881; &#127882;</b></center>"
   ]
  }
 ],
 "metadata": {
  "kernelspec": {
   "display_name": "Python 3",
   "language": "python",
   "name": "python3"
  },
  "language_info": {
   "codemirror_mode": {
    "name": "ipython",
    "version": 3
   },
   "file_extension": ".py",
   "mimetype": "text/x-python",
   "name": "python",
   "nbconvert_exporter": "python",
   "pygments_lexer": "ipython3",
   "version": "3.7.10"
  },
  "papermill": {
   "default_parameters": {},
   "duration": 87.024219,
   "end_time": "2021-11-05T04:50:21.280769",
   "environment_variables": {},
   "exception": null,
   "input_path": "__notebook__.ipynb",
   "output_path": "__notebook__.ipynb",
   "parameters": {},
   "start_time": "2021-11-05T04:48:54.256550",
   "version": "2.3.3"
  }
 },
 "nbformat": 4,
 "nbformat_minor": 5
}
